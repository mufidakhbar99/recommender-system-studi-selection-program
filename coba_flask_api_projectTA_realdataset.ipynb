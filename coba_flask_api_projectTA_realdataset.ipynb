{
 "cells": [
  {
   "cell_type": "code",
   "execution_count": 1,
   "id": "24ae5032-cbc5-4d1c-a328-48d904839f36",
   "metadata": {},
   "outputs": [
    {
     "name": "stderr",
     "output_type": "stream",
     "text": [
      "2024-03-08 22:35:19.919931: E external/local_xla/xla/stream_executor/cuda/cuda_dnn.cc:9261] Unable to register cuDNN factory: Attempting to register factory for plugin cuDNN when one has already been registered\n",
      "2024-03-08 22:35:19.919963: E external/local_xla/xla/stream_executor/cuda/cuda_fft.cc:607] Unable to register cuFFT factory: Attempting to register factory for plugin cuFFT when one has already been registered\n",
      "2024-03-08 22:35:19.920917: E external/local_xla/xla/stream_executor/cuda/cuda_blas.cc:1515] Unable to register cuBLAS factory: Attempting to register factory for plugin cuBLAS when one has already been registered\n",
      "2024-03-08 22:35:19.926358: I tensorflow/core/platform/cpu_feature_guard.cc:182] This TensorFlow binary is optimized to use available CPU instructions in performance-critical operations.\n",
      "To enable the following instructions: AVX2 FMA, in other operations, rebuild TensorFlow with the appropriate compiler flags.\n",
      "2024-03-08 22:35:20.659181: W tensorflow/compiler/tf2tensorrt/utils/py_utils.cc:38] TF-TRT Warning: Could not find TensorRT\n"
     ]
    }
   ],
   "source": [
    "import numpy as np\n",
    "from flask import Flask, render_template, request\n",
    "import tensorflow as tf\n",
    "#import tensorflow_recommenders as tfrs"
   ]
  },
  {
   "cell_type": "code",
   "execution_count": 2,
   "id": "8f5aabab-6dfc-4686-ab54-329a75cc69cb",
   "metadata": {},
   "outputs": [
    {
     "ename": "OSError",
     "evalue": "SavedModel file does not exist at: model/model_strng_060_realdata//{saved_model.pbtxt|saved_model.pb}",
     "output_type": "error",
     "traceback": [
      "\u001b[0;31m---------------------------------------------------------------------------\u001b[0m",
      "\u001b[0;31mOSError\u001b[0m                                   Traceback (most recent call last)",
      "Input \u001b[0;32mIn [2]\u001b[0m, in \u001b[0;36m<cell line: 5>\u001b[0;34m()\u001b[0m\n\u001b[1;32m      1\u001b[0m \u001b[38;5;66;03m# bahan Utama\u001b[39;00m\n\u001b[1;32m      2\u001b[0m \u001b[38;5;66;03m## BERHASIL\u001b[39;00m\n\u001b[1;32m      4\u001b[0m app \u001b[38;5;241m=\u001b[39m Flask(\u001b[38;5;18m__name__\u001b[39m)\n\u001b[0;32m----> 5\u001b[0m loaded \u001b[38;5;241m=\u001b[39m \u001b[43mtf\u001b[49m\u001b[38;5;241;43m.\u001b[39;49m\u001b[43msaved_model\u001b[49m\u001b[38;5;241;43m.\u001b[39;49m\u001b[43mload\u001b[49m\u001b[43m(\u001b[49m\u001b[38;5;124;43m'\u001b[39;49m\u001b[38;5;124;43mmodel/model_strng_060_realdata/\u001b[39;49m\u001b[38;5;124;43m'\u001b[39;49m\u001b[43m)\u001b[49m \u001b[38;5;66;03m# Folder Dari Model TFRS\u001b[39;00m\n\u001b[1;32m      7\u001b[0m \u001b[38;5;129m@app\u001b[39m\u001b[38;5;241m.\u001b[39mroute(\u001b[38;5;124m\"\u001b[39m\u001b[38;5;124m/\u001b[39m\u001b[38;5;124m\"\u001b[39m, methods\u001b[38;5;241m=\u001b[39m[\u001b[38;5;124m\"\u001b[39m\u001b[38;5;124mGET\u001b[39m\u001b[38;5;124m\"\u001b[39m, \u001b[38;5;124m\"\u001b[39m\u001b[38;5;124mPOST\u001b[39m\u001b[38;5;124m\"\u001b[39m])\n\u001b[1;32m      8\u001b[0m \u001b[38;5;28;01mdef\u001b[39;00m \u001b[38;5;21mindex\u001b[39m():\n\u001b[1;32m      9\u001b[0m     \u001b[38;5;28;01mif\u001b[39;00m request\u001b[38;5;241m.\u001b[39mmethod \u001b[38;5;241m==\u001b[39m \u001b[38;5;124m\"\u001b[39m\u001b[38;5;124mGET\u001b[39m\u001b[38;5;124m\"\u001b[39m:\n",
      "File \u001b[0;32m~/.miniconda3/envs/jcopml/lib/python3.9/site-packages/tensorflow/python/saved_model/load.py:912\u001b[0m, in \u001b[0;36mload\u001b[0;34m(export_dir, tags, options)\u001b[0m\n\u001b[1;32m    910\u001b[0m \u001b[38;5;28;01mif\u001b[39;00m \u001b[38;5;28misinstance\u001b[39m(export_dir, os\u001b[38;5;241m.\u001b[39mPathLike):\n\u001b[1;32m    911\u001b[0m   export_dir \u001b[38;5;241m=\u001b[39m os\u001b[38;5;241m.\u001b[39mfspath(export_dir)\n\u001b[0;32m--> 912\u001b[0m result \u001b[38;5;241m=\u001b[39m \u001b[43mload_partial\u001b[49m\u001b[43m(\u001b[49m\u001b[43mexport_dir\u001b[49m\u001b[43m,\u001b[49m\u001b[43m \u001b[49m\u001b[38;5;28;43;01mNone\u001b[39;49;00m\u001b[43m,\u001b[49m\u001b[43m \u001b[49m\u001b[43mtags\u001b[49m\u001b[43m,\u001b[49m\u001b[43m \u001b[49m\u001b[43moptions\u001b[49m\u001b[43m)\u001b[49m[\u001b[38;5;124m\"\u001b[39m\u001b[38;5;124mroot\u001b[39m\u001b[38;5;124m\"\u001b[39m]\n\u001b[1;32m    913\u001b[0m \u001b[38;5;28;01mreturn\u001b[39;00m result\n",
      "File \u001b[0;32m~/.miniconda3/envs/jcopml/lib/python3.9/site-packages/tensorflow/python/saved_model/load.py:1017\u001b[0m, in \u001b[0;36mload_partial\u001b[0;34m(export_dir, filters, tags, options)\u001b[0m\n\u001b[1;32m   1012\u001b[0m \u001b[38;5;28;01mif\u001b[39;00m tags \u001b[38;5;129;01mis\u001b[39;00m \u001b[38;5;129;01mnot\u001b[39;00m \u001b[38;5;28;01mNone\u001b[39;00m \u001b[38;5;129;01mand\u001b[39;00m \u001b[38;5;129;01mnot\u001b[39;00m \u001b[38;5;28misinstance\u001b[39m(tags, \u001b[38;5;28mset\u001b[39m):\n\u001b[1;32m   1013\u001b[0m   \u001b[38;5;66;03m# Supports e.g. tags=SERVING and tags=[SERVING]. Sets aren't considered\u001b[39;00m\n\u001b[1;32m   1014\u001b[0m   \u001b[38;5;66;03m# sequences for nest.flatten, so we put those through as-is.\u001b[39;00m\n\u001b[1;32m   1015\u001b[0m   tags \u001b[38;5;241m=\u001b[39m nest\u001b[38;5;241m.\u001b[39mflatten(tags)\n\u001b[1;32m   1016\u001b[0m saved_model_proto, debug_info \u001b[38;5;241m=\u001b[39m (\n\u001b[0;32m-> 1017\u001b[0m     \u001b[43mloader_impl\u001b[49m\u001b[38;5;241;43m.\u001b[39;49m\u001b[43mparse_saved_model_with_debug_info\u001b[49m\u001b[43m(\u001b[49m\u001b[43mexport_dir\u001b[49m\u001b[43m)\u001b[49m)\n\u001b[1;32m   1019\u001b[0m loader \u001b[38;5;241m=\u001b[39m \u001b[38;5;28;01mNone\u001b[39;00m\n\u001b[1;32m   1020\u001b[0m \u001b[38;5;28;01mif\u001b[39;00m (\u001b[38;5;28mlen\u001b[39m(saved_model_proto\u001b[38;5;241m.\u001b[39mmeta_graphs) \u001b[38;5;241m==\u001b[39m \u001b[38;5;241m1\u001b[39m \u001b[38;5;129;01mand\u001b[39;00m\n\u001b[1;32m   1021\u001b[0m     saved_model_proto\u001b[38;5;241m.\u001b[39mmeta_graphs[\u001b[38;5;241m0\u001b[39m]\u001b[38;5;241m.\u001b[39mHasField(\u001b[38;5;124m\"\u001b[39m\u001b[38;5;124mobject_graph_def\u001b[39m\u001b[38;5;124m\"\u001b[39m)):\n",
      "File \u001b[0;32m~/.miniconda3/envs/jcopml/lib/python3.9/site-packages/tensorflow/python/saved_model/loader_impl.py:59\u001b[0m, in \u001b[0;36mparse_saved_model_with_debug_info\u001b[0;34m(export_dir)\u001b[0m\n\u001b[1;32m     46\u001b[0m \u001b[38;5;28;01mdef\u001b[39;00m \u001b[38;5;21mparse_saved_model_with_debug_info\u001b[39m(export_dir):\n\u001b[1;32m     47\u001b[0m \u001b[38;5;250m  \u001b[39m\u001b[38;5;124;03m\"\"\"Reads the savedmodel as well as the graph debug info.\u001b[39;00m\n\u001b[1;32m     48\u001b[0m \n\u001b[1;32m     49\u001b[0m \u001b[38;5;124;03m  Args:\u001b[39;00m\n\u001b[0;32m   (...)\u001b[0m\n\u001b[1;32m     57\u001b[0m \u001b[38;5;124;03m    parsed. Missing graph debug info file is fine.\u001b[39;00m\n\u001b[1;32m     58\u001b[0m \u001b[38;5;124;03m  \"\"\"\u001b[39;00m\n\u001b[0;32m---> 59\u001b[0m   saved_model \u001b[38;5;241m=\u001b[39m \u001b[43mparse_saved_model\u001b[49m\u001b[43m(\u001b[49m\u001b[43mexport_dir\u001b[49m\u001b[43m)\u001b[49m\n\u001b[1;32m     61\u001b[0m   debug_info_path \u001b[38;5;241m=\u001b[39m file_io\u001b[38;5;241m.\u001b[39mjoin(\n\u001b[1;32m     62\u001b[0m       path_helpers\u001b[38;5;241m.\u001b[39mget_debug_dir(export_dir),\n\u001b[1;32m     63\u001b[0m       constants\u001b[38;5;241m.\u001b[39mDEBUG_INFO_FILENAME_PB)\n\u001b[1;32m     64\u001b[0m   debug_info \u001b[38;5;241m=\u001b[39m graph_debug_info_pb2\u001b[38;5;241m.\u001b[39mGraphDebugInfo()\n",
      "File \u001b[0;32m~/.miniconda3/envs/jcopml/lib/python3.9/site-packages/tensorflow/python/saved_model/loader_impl.py:119\u001b[0m, in \u001b[0;36mparse_saved_model\u001b[0;34m(export_dir)\u001b[0m\n\u001b[1;32m    117\u001b[0m     \u001b[38;5;28;01mraise\u001b[39;00m \u001b[38;5;167;01mIOError\u001b[39;00m(\u001b[38;5;124mf\u001b[39m\u001b[38;5;124m\"\u001b[39m\u001b[38;5;124mCannot parse file \u001b[39m\u001b[38;5;132;01m{\u001b[39;00mpath_to_pbtxt\u001b[38;5;132;01m}\u001b[39;00m\u001b[38;5;124m: \u001b[39m\u001b[38;5;132;01m{\u001b[39;00m\u001b[38;5;28mstr\u001b[39m(e)\u001b[38;5;132;01m}\u001b[39;00m\u001b[38;5;124m.\u001b[39m\u001b[38;5;124m\"\u001b[39m) \u001b[38;5;28;01mfrom\u001b[39;00m \u001b[38;5;21;01me\u001b[39;00m\n\u001b[1;32m    118\u001b[0m \u001b[38;5;28;01melse\u001b[39;00m:\n\u001b[0;32m--> 119\u001b[0m   \u001b[38;5;28;01mraise\u001b[39;00m \u001b[38;5;167;01mIOError\u001b[39;00m(\n\u001b[1;32m    120\u001b[0m       \u001b[38;5;124mf\u001b[39m\u001b[38;5;124m\"\u001b[39m\u001b[38;5;124mSavedModel file does not exist at: \u001b[39m\u001b[38;5;132;01m{\u001b[39;00mexport_dir\u001b[38;5;132;01m}\u001b[39;00m\u001b[38;5;132;01m{\u001b[39;00mos\u001b[38;5;241m.\u001b[39mpath\u001b[38;5;241m.\u001b[39msep\u001b[38;5;132;01m}\u001b[39;00m\u001b[38;5;124m\"\u001b[39m\n\u001b[1;32m    121\u001b[0m       \u001b[38;5;124mf\u001b[39m\u001b[38;5;124m\"\u001b[39m\u001b[38;5;130;01m{{\u001b[39;00m\u001b[38;5;132;01m{\u001b[39;00mconstants\u001b[38;5;241m.\u001b[39mSAVED_MODEL_FILENAME_PBTXT\u001b[38;5;132;01m}\u001b[39;00m\u001b[38;5;124m|\u001b[39m\u001b[38;5;124m\"\u001b[39m\n\u001b[1;32m    122\u001b[0m       \u001b[38;5;124mf\u001b[39m\u001b[38;5;124m\"\u001b[39m\u001b[38;5;132;01m{\u001b[39;00mconstants\u001b[38;5;241m.\u001b[39mSAVED_MODEL_FILENAME_PB\u001b[38;5;132;01m}\u001b[39;00m\u001b[38;5;130;01m}}\u001b[39;00m\u001b[38;5;124m\"\u001b[39m)\n\u001b[1;32m    123\u001b[0m \u001b[38;5;28;01mreturn\u001b[39;00m saved_model\n",
      "\u001b[0;31mOSError\u001b[0m: SavedModel file does not exist at: model/model_strng_060_realdata//{saved_model.pbtxt|saved_model.pb}"
     ]
    }
   ],
   "source": [
    "# bahan Utama\n",
    "## BERHASIL\n",
    "\n",
    "app = Flask(__name__)\n",
    "loaded = tf.saved_model.load('model/model_strng_060_realdata/') # Folder Dari Model TFRS\n",
    "\n",
    "@app.route(\"/\", methods=[\"GET\", \"POST\"])\n",
    "def index():\n",
    "    if request.method == \"GET\":\n",
    "        return render_template(\"index_ta_2.html\")\n",
    "    elif request.method == \"POST\":\n",
    "        Jenis_Kelamin = request.form.getlist('jenisKelamin') # Menyimpan value dari inputan user dengan 'request.form.getlist()'\n",
    "        Nilai_MTK = request.form.getlist('Nilai-MTK') # memakai 'getlist' dikarenakan inputan dari TFRS menerima dalam bentuk 'list'\n",
    "        Nilai_Bindo = request.form.getlist('Nilai-bhs-indo')\n",
    "        Nilai_Bingg = request.form.getlist('Nilai-bhs-ingg')\n",
    "        Mata_Pelajaran = request.form.getlist('mapel') # udah dalam bentuk list [\"Matematika\",\"Fisika\",\"Kimia\"]\n",
    "        Mata_Pelajaran_result = [', '.join(Mata_Pelajaran)] # diubah supaya menjadi list ['Matematika, Fisika, Kimia']\n",
    "        Preferensi_Pekerjaan = request.form.getlist('PreferensiPekerjaan')\n",
    "        Kriteria_Diri = request.form.getlist('kritediri')\n",
    "        Kriteria_Diri_result = [', '.join(Kriteria_Diri)]\n",
    "        Topik_Bidang = request.form.getlist('topkbidng')\n",
    "        Topik_Bidang_result = [', '.join(Topik_Bidang)]\n",
    "        Kecerdasan = request.form.getlist('Kecerdasan')\n",
    "        Bakat_Keahlian = request.form.getlist('bakatahli')\n",
    "        Bakat_Keahlian_result = [', '.join(Bakat_Keahlian)]\n",
    "        \n",
    "        _, titles = loaded({\n",
    "            \"jenis_kelamin\": np.array(Jenis_Kelamin),\n",
    "            \"nilai_mtk\": np.array(Nilai_MTK),\n",
    "            \"nilai_bindo\": np.array(Nilai_Bindo),\n",
    "            \"nilai_bingg\": np.array(Nilai_Bingg),\n",
    "            \"mata_pelajaran\": np.array(Mata_Pelajaran_result),\n",
    "            \"prefe_kerja\": np.array(Preferensi_Pekerjaan),\n",
    "            \"kriteria_diri\": np.array(Kriteria_Diri_result),\n",
    "            \"topik_bidang\": np.array(Topik_Bidang_result),\n",
    "            \"kecerdasan\": np.array(Kecerdasan),\n",
    "            \"bakat_keahlian\": np.array(Bakat_Keahlian_result)})\n",
    "        #recommendations = f\"Recommendations: {titles[0][:7]}\"\n",
    "        recommendations_tensor = titles[0][:7]\n",
    "        # Konversi tf.Tensor menjadi numpy array dan kemudian ke list Python\n",
    "        recommendations_list = recommendations_tensor.numpy().tolist()\n",
    "        # Konversi byte string menjadi string Python\n",
    "        program_studies = [program.decode('utf-8') for program in recommendations_list]\n",
    "        \n",
    "        return render_template(\"index_ta_2.html\", program_studies=program_studies)\n",
    "\n",
    "\n",
    "if __name__ == \"__main__\":\n",
    "    app.run(host=\"0.0.0.0\", port=\"0000\")"
   ]
  },
  {
   "cell_type": "code",
   "execution_count": 3,
   "id": "a5b8f633-d935-4359-a244-bdbc6b4211a6",
   "metadata": {},
   "outputs": [
    {
     "ename": "OSError",
     "evalue": "SavedModel file does not exist at: /home/rickyselalu/Desktop/kiki/kiki/model/model_strng_060_realdata/{saved_model.pbtxt|saved_model.pb}",
     "output_type": "error",
     "traceback": [
      "\u001b[0;31m---------------------------------------------------------------------------\u001b[0m",
      "\u001b[0;31mOSError\u001b[0m                                   Traceback (most recent call last)",
      "Input \u001b[0;32mIn [3]\u001b[0m, in \u001b[0;36m<cell line: 4>\u001b[0;34m()\u001b[0m\n\u001b[1;32m      1\u001b[0m \u001b[38;5;28;01mimport\u001b[39;00m \u001b[38;5;21;01mos\u001b[39;00m\n\u001b[1;32m      3\u001b[0m model_path \u001b[38;5;241m=\u001b[39m os\u001b[38;5;241m.\u001b[39mpath\u001b[38;5;241m.\u001b[39mabspath(\u001b[38;5;124m'\u001b[39m\u001b[38;5;124mmodel/model_strng_060_realdata/\u001b[39m\u001b[38;5;124m'\u001b[39m)\n\u001b[0;32m----> 4\u001b[0m loaded \u001b[38;5;241m=\u001b[39m \u001b[43mtf\u001b[49m\u001b[38;5;241;43m.\u001b[39;49m\u001b[43msaved_model\u001b[49m\u001b[38;5;241;43m.\u001b[39;49m\u001b[43mload\u001b[49m\u001b[43m(\u001b[49m\u001b[43mmodel_path\u001b[49m\u001b[43m)\u001b[49m\n",
      "File \u001b[0;32m~/.miniconda3/envs/jcopml/lib/python3.9/site-packages/tensorflow/python/saved_model/load.py:912\u001b[0m, in \u001b[0;36mload\u001b[0;34m(export_dir, tags, options)\u001b[0m\n\u001b[1;32m    910\u001b[0m \u001b[38;5;28;01mif\u001b[39;00m \u001b[38;5;28misinstance\u001b[39m(export_dir, os\u001b[38;5;241m.\u001b[39mPathLike):\n\u001b[1;32m    911\u001b[0m   export_dir \u001b[38;5;241m=\u001b[39m os\u001b[38;5;241m.\u001b[39mfspath(export_dir)\n\u001b[0;32m--> 912\u001b[0m result \u001b[38;5;241m=\u001b[39m \u001b[43mload_partial\u001b[49m\u001b[43m(\u001b[49m\u001b[43mexport_dir\u001b[49m\u001b[43m,\u001b[49m\u001b[43m \u001b[49m\u001b[38;5;28;43;01mNone\u001b[39;49;00m\u001b[43m,\u001b[49m\u001b[43m \u001b[49m\u001b[43mtags\u001b[49m\u001b[43m,\u001b[49m\u001b[43m \u001b[49m\u001b[43moptions\u001b[49m\u001b[43m)\u001b[49m[\u001b[38;5;124m\"\u001b[39m\u001b[38;5;124mroot\u001b[39m\u001b[38;5;124m\"\u001b[39m]\n\u001b[1;32m    913\u001b[0m \u001b[38;5;28;01mreturn\u001b[39;00m result\n",
      "File \u001b[0;32m~/.miniconda3/envs/jcopml/lib/python3.9/site-packages/tensorflow/python/saved_model/load.py:1017\u001b[0m, in \u001b[0;36mload_partial\u001b[0;34m(export_dir, filters, tags, options)\u001b[0m\n\u001b[1;32m   1012\u001b[0m \u001b[38;5;28;01mif\u001b[39;00m tags \u001b[38;5;129;01mis\u001b[39;00m \u001b[38;5;129;01mnot\u001b[39;00m \u001b[38;5;28;01mNone\u001b[39;00m \u001b[38;5;129;01mand\u001b[39;00m \u001b[38;5;129;01mnot\u001b[39;00m \u001b[38;5;28misinstance\u001b[39m(tags, \u001b[38;5;28mset\u001b[39m):\n\u001b[1;32m   1013\u001b[0m   \u001b[38;5;66;03m# Supports e.g. tags=SERVING and tags=[SERVING]. Sets aren't considered\u001b[39;00m\n\u001b[1;32m   1014\u001b[0m   \u001b[38;5;66;03m# sequences for nest.flatten, so we put those through as-is.\u001b[39;00m\n\u001b[1;32m   1015\u001b[0m   tags \u001b[38;5;241m=\u001b[39m nest\u001b[38;5;241m.\u001b[39mflatten(tags)\n\u001b[1;32m   1016\u001b[0m saved_model_proto, debug_info \u001b[38;5;241m=\u001b[39m (\n\u001b[0;32m-> 1017\u001b[0m     \u001b[43mloader_impl\u001b[49m\u001b[38;5;241;43m.\u001b[39;49m\u001b[43mparse_saved_model_with_debug_info\u001b[49m\u001b[43m(\u001b[49m\u001b[43mexport_dir\u001b[49m\u001b[43m)\u001b[49m)\n\u001b[1;32m   1019\u001b[0m loader \u001b[38;5;241m=\u001b[39m \u001b[38;5;28;01mNone\u001b[39;00m\n\u001b[1;32m   1020\u001b[0m \u001b[38;5;28;01mif\u001b[39;00m (\u001b[38;5;28mlen\u001b[39m(saved_model_proto\u001b[38;5;241m.\u001b[39mmeta_graphs) \u001b[38;5;241m==\u001b[39m \u001b[38;5;241m1\u001b[39m \u001b[38;5;129;01mand\u001b[39;00m\n\u001b[1;32m   1021\u001b[0m     saved_model_proto\u001b[38;5;241m.\u001b[39mmeta_graphs[\u001b[38;5;241m0\u001b[39m]\u001b[38;5;241m.\u001b[39mHasField(\u001b[38;5;124m\"\u001b[39m\u001b[38;5;124mobject_graph_def\u001b[39m\u001b[38;5;124m\"\u001b[39m)):\n",
      "File \u001b[0;32m~/.miniconda3/envs/jcopml/lib/python3.9/site-packages/tensorflow/python/saved_model/loader_impl.py:59\u001b[0m, in \u001b[0;36mparse_saved_model_with_debug_info\u001b[0;34m(export_dir)\u001b[0m\n\u001b[1;32m     46\u001b[0m \u001b[38;5;28;01mdef\u001b[39;00m \u001b[38;5;21mparse_saved_model_with_debug_info\u001b[39m(export_dir):\n\u001b[1;32m     47\u001b[0m \u001b[38;5;250m  \u001b[39m\u001b[38;5;124;03m\"\"\"Reads the savedmodel as well as the graph debug info.\u001b[39;00m\n\u001b[1;32m     48\u001b[0m \n\u001b[1;32m     49\u001b[0m \u001b[38;5;124;03m  Args:\u001b[39;00m\n\u001b[0;32m   (...)\u001b[0m\n\u001b[1;32m     57\u001b[0m \u001b[38;5;124;03m    parsed. Missing graph debug info file is fine.\u001b[39;00m\n\u001b[1;32m     58\u001b[0m \u001b[38;5;124;03m  \"\"\"\u001b[39;00m\n\u001b[0;32m---> 59\u001b[0m   saved_model \u001b[38;5;241m=\u001b[39m \u001b[43mparse_saved_model\u001b[49m\u001b[43m(\u001b[49m\u001b[43mexport_dir\u001b[49m\u001b[43m)\u001b[49m\n\u001b[1;32m     61\u001b[0m   debug_info_path \u001b[38;5;241m=\u001b[39m file_io\u001b[38;5;241m.\u001b[39mjoin(\n\u001b[1;32m     62\u001b[0m       path_helpers\u001b[38;5;241m.\u001b[39mget_debug_dir(export_dir),\n\u001b[1;32m     63\u001b[0m       constants\u001b[38;5;241m.\u001b[39mDEBUG_INFO_FILENAME_PB)\n\u001b[1;32m     64\u001b[0m   debug_info \u001b[38;5;241m=\u001b[39m graph_debug_info_pb2\u001b[38;5;241m.\u001b[39mGraphDebugInfo()\n",
      "File \u001b[0;32m~/.miniconda3/envs/jcopml/lib/python3.9/site-packages/tensorflow/python/saved_model/loader_impl.py:119\u001b[0m, in \u001b[0;36mparse_saved_model\u001b[0;34m(export_dir)\u001b[0m\n\u001b[1;32m    117\u001b[0m     \u001b[38;5;28;01mraise\u001b[39;00m \u001b[38;5;167;01mIOError\u001b[39;00m(\u001b[38;5;124mf\u001b[39m\u001b[38;5;124m\"\u001b[39m\u001b[38;5;124mCannot parse file \u001b[39m\u001b[38;5;132;01m{\u001b[39;00mpath_to_pbtxt\u001b[38;5;132;01m}\u001b[39;00m\u001b[38;5;124m: \u001b[39m\u001b[38;5;132;01m{\u001b[39;00m\u001b[38;5;28mstr\u001b[39m(e)\u001b[38;5;132;01m}\u001b[39;00m\u001b[38;5;124m.\u001b[39m\u001b[38;5;124m\"\u001b[39m) \u001b[38;5;28;01mfrom\u001b[39;00m \u001b[38;5;21;01me\u001b[39;00m\n\u001b[1;32m    118\u001b[0m \u001b[38;5;28;01melse\u001b[39;00m:\n\u001b[0;32m--> 119\u001b[0m   \u001b[38;5;28;01mraise\u001b[39;00m \u001b[38;5;167;01mIOError\u001b[39;00m(\n\u001b[1;32m    120\u001b[0m       \u001b[38;5;124mf\u001b[39m\u001b[38;5;124m\"\u001b[39m\u001b[38;5;124mSavedModel file does not exist at: \u001b[39m\u001b[38;5;132;01m{\u001b[39;00mexport_dir\u001b[38;5;132;01m}\u001b[39;00m\u001b[38;5;132;01m{\u001b[39;00mos\u001b[38;5;241m.\u001b[39mpath\u001b[38;5;241m.\u001b[39msep\u001b[38;5;132;01m}\u001b[39;00m\u001b[38;5;124m\"\u001b[39m\n\u001b[1;32m    121\u001b[0m       \u001b[38;5;124mf\u001b[39m\u001b[38;5;124m\"\u001b[39m\u001b[38;5;130;01m{{\u001b[39;00m\u001b[38;5;132;01m{\u001b[39;00mconstants\u001b[38;5;241m.\u001b[39mSAVED_MODEL_FILENAME_PBTXT\u001b[38;5;132;01m}\u001b[39;00m\u001b[38;5;124m|\u001b[39m\u001b[38;5;124m\"\u001b[39m\n\u001b[1;32m    122\u001b[0m       \u001b[38;5;124mf\u001b[39m\u001b[38;5;124m\"\u001b[39m\u001b[38;5;132;01m{\u001b[39;00mconstants\u001b[38;5;241m.\u001b[39mSAVED_MODEL_FILENAME_PB\u001b[38;5;132;01m}\u001b[39;00m\u001b[38;5;130;01m}}\u001b[39;00m\u001b[38;5;124m\"\u001b[39m)\n\u001b[1;32m    123\u001b[0m \u001b[38;5;28;01mreturn\u001b[39;00m saved_model\n",
      "\u001b[0;31mOSError\u001b[0m: SavedModel file does not exist at: /home/rickyselalu/Desktop/kiki/kiki/model/model_strng_060_realdata/{saved_model.pbtxt|saved_model.pb}"
     ]
    }
   ],
   "source": [
    "import os\n",
    "\n",
    "model_path = os.path.abspath('model/model_strng_060_realdata/')\n",
    "loaded = tf.saved_model.load(model_path)\n"
   ]
  },
  {
   "cell_type": "code",
   "execution_count": 4,
   "id": "5d80fa77-5ea9-42aa-97b7-303deff8a0dd",
   "metadata": {},
   "outputs": [
    {
     "ename": "OSError",
     "evalue": "SavedModel file does not exist at: /home/rickyselalu/Desktop/kiki/kiki/model/model_strng_060_realdata/{saved_model.pbtxt|saved_model.pb}",
     "output_type": "error",
     "traceback": [
      "\u001b[0;31m---------------------------------------------------------------------------\u001b[0m",
      "\u001b[0;31mOSError\u001b[0m                                   Traceback (most recent call last)",
      "Input \u001b[0;32mIn [4]\u001b[0m, in \u001b[0;36m<cell line: 5>\u001b[0;34m()\u001b[0m\n\u001b[1;32m      3\u001b[0m model_path \u001b[38;5;241m=\u001b[39m \u001b[38;5;124m'\u001b[39m\u001b[38;5;124m/home/rickyselalu/Desktop/kiki/kiki/model/model_strng_060_realdata/\u001b[39m\u001b[38;5;124m'\u001b[39m\n\u001b[1;32m      4\u001b[0m absolute_model_path \u001b[38;5;241m=\u001b[39m os\u001b[38;5;241m.\u001b[39mpath\u001b[38;5;241m.\u001b[39mabspath(model_path)\n\u001b[0;32m----> 5\u001b[0m loaded \u001b[38;5;241m=\u001b[39m \u001b[43mtf\u001b[49m\u001b[38;5;241;43m.\u001b[39;49m\u001b[43msaved_model\u001b[49m\u001b[38;5;241;43m.\u001b[39;49m\u001b[43mload\u001b[49m\u001b[43m(\u001b[49m\u001b[43mabsolute_model_path\u001b[49m\u001b[43m)\u001b[49m\n",
      "File \u001b[0;32m~/.miniconda3/envs/jcopml/lib/python3.9/site-packages/tensorflow/python/saved_model/load.py:912\u001b[0m, in \u001b[0;36mload\u001b[0;34m(export_dir, tags, options)\u001b[0m\n\u001b[1;32m    910\u001b[0m \u001b[38;5;28;01mif\u001b[39;00m \u001b[38;5;28misinstance\u001b[39m(export_dir, os\u001b[38;5;241m.\u001b[39mPathLike):\n\u001b[1;32m    911\u001b[0m   export_dir \u001b[38;5;241m=\u001b[39m os\u001b[38;5;241m.\u001b[39mfspath(export_dir)\n\u001b[0;32m--> 912\u001b[0m result \u001b[38;5;241m=\u001b[39m \u001b[43mload_partial\u001b[49m\u001b[43m(\u001b[49m\u001b[43mexport_dir\u001b[49m\u001b[43m,\u001b[49m\u001b[43m \u001b[49m\u001b[38;5;28;43;01mNone\u001b[39;49;00m\u001b[43m,\u001b[49m\u001b[43m \u001b[49m\u001b[43mtags\u001b[49m\u001b[43m,\u001b[49m\u001b[43m \u001b[49m\u001b[43moptions\u001b[49m\u001b[43m)\u001b[49m[\u001b[38;5;124m\"\u001b[39m\u001b[38;5;124mroot\u001b[39m\u001b[38;5;124m\"\u001b[39m]\n\u001b[1;32m    913\u001b[0m \u001b[38;5;28;01mreturn\u001b[39;00m result\n",
      "File \u001b[0;32m~/.miniconda3/envs/jcopml/lib/python3.9/site-packages/tensorflow/python/saved_model/load.py:1017\u001b[0m, in \u001b[0;36mload_partial\u001b[0;34m(export_dir, filters, tags, options)\u001b[0m\n\u001b[1;32m   1012\u001b[0m \u001b[38;5;28;01mif\u001b[39;00m tags \u001b[38;5;129;01mis\u001b[39;00m \u001b[38;5;129;01mnot\u001b[39;00m \u001b[38;5;28;01mNone\u001b[39;00m \u001b[38;5;129;01mand\u001b[39;00m \u001b[38;5;129;01mnot\u001b[39;00m \u001b[38;5;28misinstance\u001b[39m(tags, \u001b[38;5;28mset\u001b[39m):\n\u001b[1;32m   1013\u001b[0m   \u001b[38;5;66;03m# Supports e.g. tags=SERVING and tags=[SERVING]. Sets aren't considered\u001b[39;00m\n\u001b[1;32m   1014\u001b[0m   \u001b[38;5;66;03m# sequences for nest.flatten, so we put those through as-is.\u001b[39;00m\n\u001b[1;32m   1015\u001b[0m   tags \u001b[38;5;241m=\u001b[39m nest\u001b[38;5;241m.\u001b[39mflatten(tags)\n\u001b[1;32m   1016\u001b[0m saved_model_proto, debug_info \u001b[38;5;241m=\u001b[39m (\n\u001b[0;32m-> 1017\u001b[0m     \u001b[43mloader_impl\u001b[49m\u001b[38;5;241;43m.\u001b[39;49m\u001b[43mparse_saved_model_with_debug_info\u001b[49m\u001b[43m(\u001b[49m\u001b[43mexport_dir\u001b[49m\u001b[43m)\u001b[49m)\n\u001b[1;32m   1019\u001b[0m loader \u001b[38;5;241m=\u001b[39m \u001b[38;5;28;01mNone\u001b[39;00m\n\u001b[1;32m   1020\u001b[0m \u001b[38;5;28;01mif\u001b[39;00m (\u001b[38;5;28mlen\u001b[39m(saved_model_proto\u001b[38;5;241m.\u001b[39mmeta_graphs) \u001b[38;5;241m==\u001b[39m \u001b[38;5;241m1\u001b[39m \u001b[38;5;129;01mand\u001b[39;00m\n\u001b[1;32m   1021\u001b[0m     saved_model_proto\u001b[38;5;241m.\u001b[39mmeta_graphs[\u001b[38;5;241m0\u001b[39m]\u001b[38;5;241m.\u001b[39mHasField(\u001b[38;5;124m\"\u001b[39m\u001b[38;5;124mobject_graph_def\u001b[39m\u001b[38;5;124m\"\u001b[39m)):\n",
      "File \u001b[0;32m~/.miniconda3/envs/jcopml/lib/python3.9/site-packages/tensorflow/python/saved_model/loader_impl.py:59\u001b[0m, in \u001b[0;36mparse_saved_model_with_debug_info\u001b[0;34m(export_dir)\u001b[0m\n\u001b[1;32m     46\u001b[0m \u001b[38;5;28;01mdef\u001b[39;00m \u001b[38;5;21mparse_saved_model_with_debug_info\u001b[39m(export_dir):\n\u001b[1;32m     47\u001b[0m \u001b[38;5;250m  \u001b[39m\u001b[38;5;124;03m\"\"\"Reads the savedmodel as well as the graph debug info.\u001b[39;00m\n\u001b[1;32m     48\u001b[0m \n\u001b[1;32m     49\u001b[0m \u001b[38;5;124;03m  Args:\u001b[39;00m\n\u001b[0;32m   (...)\u001b[0m\n\u001b[1;32m     57\u001b[0m \u001b[38;5;124;03m    parsed. Missing graph debug info file is fine.\u001b[39;00m\n\u001b[1;32m     58\u001b[0m \u001b[38;5;124;03m  \"\"\"\u001b[39;00m\n\u001b[0;32m---> 59\u001b[0m   saved_model \u001b[38;5;241m=\u001b[39m \u001b[43mparse_saved_model\u001b[49m\u001b[43m(\u001b[49m\u001b[43mexport_dir\u001b[49m\u001b[43m)\u001b[49m\n\u001b[1;32m     61\u001b[0m   debug_info_path \u001b[38;5;241m=\u001b[39m file_io\u001b[38;5;241m.\u001b[39mjoin(\n\u001b[1;32m     62\u001b[0m       path_helpers\u001b[38;5;241m.\u001b[39mget_debug_dir(export_dir),\n\u001b[1;32m     63\u001b[0m       constants\u001b[38;5;241m.\u001b[39mDEBUG_INFO_FILENAME_PB)\n\u001b[1;32m     64\u001b[0m   debug_info \u001b[38;5;241m=\u001b[39m graph_debug_info_pb2\u001b[38;5;241m.\u001b[39mGraphDebugInfo()\n",
      "File \u001b[0;32m~/.miniconda3/envs/jcopml/lib/python3.9/site-packages/tensorflow/python/saved_model/loader_impl.py:119\u001b[0m, in \u001b[0;36mparse_saved_model\u001b[0;34m(export_dir)\u001b[0m\n\u001b[1;32m    117\u001b[0m     \u001b[38;5;28;01mraise\u001b[39;00m \u001b[38;5;167;01mIOError\u001b[39;00m(\u001b[38;5;124mf\u001b[39m\u001b[38;5;124m\"\u001b[39m\u001b[38;5;124mCannot parse file \u001b[39m\u001b[38;5;132;01m{\u001b[39;00mpath_to_pbtxt\u001b[38;5;132;01m}\u001b[39;00m\u001b[38;5;124m: \u001b[39m\u001b[38;5;132;01m{\u001b[39;00m\u001b[38;5;28mstr\u001b[39m(e)\u001b[38;5;132;01m}\u001b[39;00m\u001b[38;5;124m.\u001b[39m\u001b[38;5;124m\"\u001b[39m) \u001b[38;5;28;01mfrom\u001b[39;00m \u001b[38;5;21;01me\u001b[39;00m\n\u001b[1;32m    118\u001b[0m \u001b[38;5;28;01melse\u001b[39;00m:\n\u001b[0;32m--> 119\u001b[0m   \u001b[38;5;28;01mraise\u001b[39;00m \u001b[38;5;167;01mIOError\u001b[39;00m(\n\u001b[1;32m    120\u001b[0m       \u001b[38;5;124mf\u001b[39m\u001b[38;5;124m\"\u001b[39m\u001b[38;5;124mSavedModel file does not exist at: \u001b[39m\u001b[38;5;132;01m{\u001b[39;00mexport_dir\u001b[38;5;132;01m}\u001b[39;00m\u001b[38;5;132;01m{\u001b[39;00mos\u001b[38;5;241m.\u001b[39mpath\u001b[38;5;241m.\u001b[39msep\u001b[38;5;132;01m}\u001b[39;00m\u001b[38;5;124m\"\u001b[39m\n\u001b[1;32m    121\u001b[0m       \u001b[38;5;124mf\u001b[39m\u001b[38;5;124m\"\u001b[39m\u001b[38;5;130;01m{{\u001b[39;00m\u001b[38;5;132;01m{\u001b[39;00mconstants\u001b[38;5;241m.\u001b[39mSAVED_MODEL_FILENAME_PBTXT\u001b[38;5;132;01m}\u001b[39;00m\u001b[38;5;124m|\u001b[39m\u001b[38;5;124m\"\u001b[39m\n\u001b[1;32m    122\u001b[0m       \u001b[38;5;124mf\u001b[39m\u001b[38;5;124m\"\u001b[39m\u001b[38;5;132;01m{\u001b[39;00mconstants\u001b[38;5;241m.\u001b[39mSAVED_MODEL_FILENAME_PB\u001b[38;5;132;01m}\u001b[39;00m\u001b[38;5;130;01m}}\u001b[39;00m\u001b[38;5;124m\"\u001b[39m)\n\u001b[1;32m    123\u001b[0m \u001b[38;5;28;01mreturn\u001b[39;00m saved_model\n",
      "\u001b[0;31mOSError\u001b[0m: SavedModel file does not exist at: /home/rickyselalu/Desktop/kiki/kiki/model/model_strng_060_realdata/{saved_model.pbtxt|saved_model.pb}"
     ]
    }
   ],
   "source": [
    "import os\n",
    "\n",
    "model_path = '/home/rickyselalu/Desktop/kiki/kiki/model/model_strng_060_realdata/'\n",
    "absolute_model_path = os.path.abspath(model_path)\n",
    "loaded = tf.saved_model.load(absolute_model_path)"
   ]
  },
  {
   "cell_type": "code",
   "execution_count": 5,
   "id": "63fcdfa6-a5d9-4e8a-a382-014ea692e0d5",
   "metadata": {},
   "outputs": [
    {
     "name": "stdout",
     "output_type": "stream",
     "text": [
      " * Serving Flask app '__main__'\n",
      " * Debug mode: off\n"
     ]
    },
    {
     "name": "stderr",
     "output_type": "stream",
     "text": [
      "WARNING: This is a development server. Do not use it in a production deployment. Use a production WSGI server instead.\n",
      " * Running on all addresses (0.0.0.0)\n",
      " * Running on http://127.0.0.1:54155\n",
      " * Running on http://192.168.200.190:54155\n",
      "Press CTRL+C to quit\n",
      "127.0.0.1 - - [26/Dec/2023 18:59:26] \"GET / HTTP/1.1\" 200 -\n",
      "127.0.0.1 - - [26/Dec/2023 18:59:26] \"GET /favicon.ico HTTP/1.1\" 404 -\n",
      "127.0.0.1 - - [26/Dec/2023 19:00:12] \"POST / HTTP/1.1\" 200 -\n",
      "127.0.0.1 - - [26/Dec/2023 19:00:26] \"GET / HTTP/1.1\" 200 -\n"
     ]
    }
   ],
   "source": [
    "# bahan Utama\n",
    "## BERHASIL\n",
    "\n",
    "app = Flask(__name__)\n",
    "loaded = tf.saved_model.load('model/model_strng/') # Folder Dari Model TFRS\n",
    "\n",
    "@app.route(\"/\", methods=[\"GET\", \"POST\"])\n",
    "def index():\n",
    "    if request.method == \"GET\":\n",
    "        return render_template(\"index_ta_2.html\")\n",
    "    elif request.method == \"POST\":\n",
    "        Jenis_Kelamin = request.form.getlist('jenisKelamin') # Menyimpan value dari inputan user dengan 'request.form.getlist()'\n",
    "        Nilai_MTK = request.form.getlist('Nilai-MTK') # memakai 'getlist' dikarenakan inputan dari TFRS menerima dalam bentuk 'list'\n",
    "        Nilai_Bindo = request.form.getlist('Nilai-bhs-indo')\n",
    "        Nilai_Bingg = request.form.getlist('Nilai-bhs-ingg')\n",
    "        Mata_Pelajaran = request.form.getlist('mapel') # udah dalam bentuk list [\"Matematika\",\"Fisika\",\"Kimia\"]\n",
    "        Mata_Pelajaran_result = [', '.join(Mata_Pelajaran)] # diubah supaya menjadi list ['Matematika, Fisika, Kimia']\n",
    "        Preferensi_Pekerjaan = request.form.getlist('PreferensiPekerjaan')\n",
    "        Kriteria_Diri = request.form.getlist('kritediri')\n",
    "        Kriteria_Diri_result = [', '.join(Kriteria_Diri)]\n",
    "        Topik_Bidang = request.form.getlist('topkbidng')\n",
    "        Topik_Bidang_result = [', '.join(Topik_Bidang)]\n",
    "        Kecerdasan = request.form.getlist('Kecerdasan')\n",
    "        Bakat_Keahlian = request.form.getlist('bakatahli')\n",
    "        Bakat_Keahlian_result = [', '.join(Bakat_Keahlian)]\n",
    "        \n",
    "        _, titles = loaded({\n",
    "            \"jenis_kelamin\": np.array(Jenis_Kelamin),\n",
    "            \"nilai_mtk\": np.array(Nilai_MTK),\n",
    "            \"nilai_bindo\": np.array(Nilai_Bindo),\n",
    "            \"nilai_bingg\": np.array(Nilai_Bingg),\n",
    "            \"mata_pelajaran\": np.array(Mata_Pelajaran_result),\n",
    "            \"prefe_kerja\": np.array(Preferensi_Pekerjaan),\n",
    "            \"kriteria_diri\": np.array(Kriteria_Diri_result),\n",
    "            \"topik_bidang\": np.array(Topik_Bidang_result),\n",
    "            \"kecerdasan\": np.array(Kecerdasan),\n",
    "            \"bakat_keahlian\": np.array(Bakat_Keahlian_result)})\n",
    "        #recommendations = f\"Recommendations: {titles[0][:7]}\"\n",
    "        recommendations_tensor = titles[0][:7]\n",
    "        # Konversi tf.Tensor menjadi numpy array dan kemudian ke list Python\n",
    "        recommendations_list = recommendations_tensor.numpy().tolist()\n",
    "        # Konversi byte string menjadi string Python\n",
    "        program_studies = [program.decode('utf-8') for program in recommendations_list]\n",
    "        \n",
    "        return render_template(\"index_ta_2.html\", program_studies=program_studies)\n",
    "\n",
    "\n",
    "if __name__ == \"__main__\":\n",
    "    app.run(host=\"0.0.0.0\", port=\"0000\")"
   ]
  },
  {
   "cell_type": "code",
   "execution_count": null,
   "id": "b9c13922-c521-45df-8f06-8cb7ce979fb3",
   "metadata": {},
   "outputs": [],
   "source": []
  },
  {
   "cell_type": "code",
   "execution_count": 5,
   "id": "4f98478d-7dfb-4d17-814a-be435da8405c",
   "metadata": {},
   "outputs": [
    {
     "name": "stdout",
     "output_type": "stream",
     "text": [
      " * Serving Flask app '__main__'\n",
      " * Debug mode: off\n"
     ]
    },
    {
     "name": "stderr",
     "output_type": "stream",
     "text": [
      "WARNING: This is a development server. Do not use it in a production deployment. Use a production WSGI server instead.\n",
      " * Running on all addresses (0.0.0.0)\n",
      " * Running on http://127.0.0.1:53107\n",
      " * Running on http://192.168.100.238:53107\n",
      "Press CTRL+C to quit\n",
      "127.0.0.1 - - [25/Dec/2023 20:52:08] \"GET / HTTP/1.1\" 200 -\n",
      "127.0.0.1 - - [25/Dec/2023 20:52:08] \"GET /favicon.ico HTTP/1.1\" 404 -\n",
      "127.0.0.1 - - [25/Dec/2023 20:52:25] \"POST / HTTP/1.1\" 200 -\n"
     ]
    }
   ],
   "source": [
    "# Bahan Percobaan\n",
    "\n",
    "# bahan udah ketauan dimana error nya\n",
    "\n",
    "app = Flask(__name__)\n",
    "loaded = tf.saved_model.load('model/model_strng/') # Folder Dari Model TFRS\n",
    "\n",
    "@app.route(\"/\", methods=[\"GET\", \"POST\"])\n",
    "def index():\n",
    "    if request.method == \"GET\":\n",
    "        return render_template(\"index_ta_2.html\")\n",
    "    elif request.method == \"POST\":\n",
    "        Jenis_Kelamin = request.form.getlist('jenisKelamin') # Menyimpan value dari inputan user dengan 'request.form.getlist()'\n",
    "        Nilai_MTK = request.form.getlist('Nilai-MTK') # memakai 'getlist' dikarenakan inputan dari TFRS menerima dalam bentuk 'list'\n",
    "        Nilai_Bindo = request.form.getlist('Nilai-bhs-indo')\n",
    "        Nilai_Bingg = request.form.getlist('Nilai-bhs-ingg')\n",
    "        Mata_Pelajaran = request.form.getlist('mapel') # udah dalam bentuk list [\"Matematika\",\"Fisika\",\"Kimia\"]\n",
    "        Mata_Pelajaran_result = [', '.join(Mata_Pelajaran)] # diubah supaya menjadi list ['Matematika, Fisika, Kimia']\n",
    "        \n",
    "        Preferensi_Pekerjaan = request.form.getlist('PreferensiPekerjaan')\n",
    "        Kriteria_Diri = request.form.getlist('kritediri')\n",
    "        Topik_Bidang = request.form.getlist('topkbidng')\n",
    "        Kecerdasan = request.form.getlist('Kecerdasan')\n",
    "        Bakat_Keahlian = request.form.getlist('bakatahli')\n",
    "        return Mata_Pelajaran_result\n",
    "        \n",
    "if __name__ == \"__main__\":\n",
    "    app.run(host=\"0.0.0.0\", port=\"0000\")"
   ]
  },
  {
   "cell_type": "code",
   "execution_count": null,
   "id": "b7ed8813-15f0-4a25-8a45-8a2130b74072",
   "metadata": {},
   "outputs": [],
   "source": [
    "['Matematika, Biologi, Bahasa Inggris']"
   ]
  },
  {
   "cell_type": "code",
   "execution_count": null,
   "id": "424439ef-dde0-4049-90b0-36fb784ac357",
   "metadata": {},
   "outputs": [],
   "source": [
    "# OHHHHHHHHHHHHHHHHHHHHH DAH TAU KENAPA ERRORR BROOOO!!!!!\n",
    "# JADIIIII!!!!\n",
    "# kalo dari website itu untuk 'getlist', dia nyimpan nya itu ['Matematika', 'Biologi', 'Bahasa Inggris']\n",
    "# TAPI YANG DIMINTA SAMA TFRS ITU ['Matematika, Biologi, Bahasa Inggris']"
   ]
  },
  {
   "cell_type": "code",
   "execution_count": null,
   "id": "437e9e6c-5859-49f9-8bde-20201c743181",
   "metadata": {},
   "outputs": [],
   "source": []
  },
  {
   "cell_type": "code",
   "execution_count": null,
   "id": "ae6720c2-27c0-441a-a3e1-fa8b754f41c4",
   "metadata": {},
   "outputs": [],
   "source": []
  },
  {
   "cell_type": "code",
   "execution_count": null,
   "id": "d883a7c5-8436-4215-bf7f-0e1ad6595a7e",
   "metadata": {},
   "outputs": [],
   "source": []
  },
  {
   "cell_type": "code",
   "execution_count": null,
   "id": "8e94ffb1-9482-4444-a067-1972d2e80c01",
   "metadata": {},
   "outputs": [],
   "source": []
  },
  {
   "cell_type": "code",
   "execution_count": 12,
   "id": "e23ea208-2e30-4d54-a119-55c974588959",
   "metadata": {},
   "outputs": [],
   "source": [
    "aa = ['Perempuan']"
   ]
  },
  {
   "cell_type": "code",
   "execution_count": null,
   "id": "4eb3151e-c0f7-4981-afc2-e70d503ac4d3",
   "metadata": {},
   "outputs": [],
   "source": [
    "a_as_string = str(a)"
   ]
  },
  {
   "cell_type": "code",
   "execution_count": 7,
   "id": "edb449a6-6cb4-4086-a58d-32d47e29de4e",
   "metadata": {},
   "outputs": [],
   "source": [
    "aa = ['Perempuan']\n",
    "bb = ['C (0-79)']\n",
    "cc = ['A (90-100)']\n",
    "dd = ['A (90-100)']\n",
    "ee = ['Matematika, Biologi, Bahasa Inggris']\n",
    "ff = ['Bekerja Dalam Ruangan']\n",
    "gg = ['Outdoor (Pekerjaan yang aktivitas di luar atau pekerjaan yang tidak bersifat rutin), Scientific (Pekerjaan berhubungan analisa dan eksperimen pada ilmu pengetahuan)']\n",
    "hh = ['Sains, Kesehatan']\n",
    "ii = ['Kecerdasan Naturalis (kemampuan memahami unsur dalam lingkungan alam)']\n",
    "jj = ['Realitas (kemampuan dalam memahami, menganalisis objek dalam dunia nyata), Analisis dan Sintesis (Kemampuan menganalisis dan menyusun kembali informasi)']"
   ]
  },
  {
   "cell_type": "code",
   "execution_count": 11,
   "id": "93597901-440e-415a-b692-933066dfa14e",
   "metadata": {},
   "outputs": [
    {
     "name": "stdout",
     "output_type": "stream",
     "text": [
      "['Biologi', 'Farmasi', 'Kimia', 'Fisika', 'Statistika', 'Informatika', 'Matematika']\n"
     ]
    }
   ],
   "source": [
    "# Coba test load model dan predict\n",
    "\n",
    "loaded = tf.saved_model.load('model/model_strng/')\n",
    "\n",
    "_, titles = loaded({\n",
    "    \"jenis_kelamin\": np.array(aa),\n",
    "    \"nilai_mtk\": np.array(['C (0-79)']),\n",
    "    \"nilai_bindo\": np.array(['A (90-100)']),\n",
    "    \"nilai_bingg\": np.array(['A (90-100)']),\n",
    "    \"mata_pelajaran\": np.array(['Matematika, Biologi, Bahasa Inggris']),\n",
    "    \"prefe_kerja\": np.array(['Bekerja Dalam Ruangan']),\n",
    "    \"kriteria_diri\": np.array(['Outdoor (Pekerjaan yang aktivitas di luar atau pekerjaan yang tidak bersifat rutin), Scientific (Pekerjaan berhubungan analisa dan eksperimen pada ilmu pengetahuan)']),\n",
    "    \"topik_bidang\": np.array(['Sains, Kesehatan']),\n",
    "    \"kecerdasan\": np.array(['Kecerdasan Naturalis (kemampuan memahami unsur dalam lingkungan alam)']),\n",
    "    \"bakat_keahlian\": np.array(['Realitas (kemampuan dalam memahami, menganalisis objek dalam dunia nyata), Analisis dan Sintesis (Kemampuan menganalisis dan menyusun kembali informasi)'])},\n",
    ")\n",
    "#recommendations = f\"Recommendations: {titles[0][:7]}\"\n",
    "recommendations_tensor = titles[0][:7]\n",
    "\n",
    "# Konversi tf.Tensor menjadi numpy array dan kemudian ke list Python\n",
    "recommendations_list = recommendations_tensor.numpy().tolist()\n",
    "# Konversi byte string menjadi string Python\n",
    "program_studies = [program.decode('utf-8') for program in recommendations_list]\n",
    "print(program_studies)\n",
    "\n",
    "## BISA KOK kalo langsung di input dari code loaded nya DAN kita buat aa = ['Laki-Laki']"
   ]
  },
  {
   "cell_type": "code",
   "execution_count": 58,
   "id": "6bf31d8f-8baa-4bc7-9929-55ddc1bb8f05",
   "metadata": {},
   "outputs": [],
   "source": []
  },
  {
   "cell_type": "code",
   "execution_count": 59,
   "id": "ceda5351-29cc-41ff-a94d-9f37ab72dc01",
   "metadata": {},
   "outputs": [],
   "source": []
  },
  {
   "cell_type": "code",
   "execution_count": 56,
   "id": "4228877a-2216-4e9d-a2a6-67e9bfb8b254",
   "metadata": {},
   "outputs": [],
   "source": []
  },
  {
   "cell_type": "code",
   "execution_count": null,
   "id": "c3549067-8525-41d2-9c51-d63a85788dbe",
   "metadata": {},
   "outputs": [],
   "source": []
  },
  {
   "cell_type": "code",
   "execution_count": null,
   "id": "b5a687cd-a04a-4c3a-a2e4-e97271ce6e63",
   "metadata": {},
   "outputs": [],
   "source": []
  },
  {
   "cell_type": "code",
   "execution_count": 5,
   "id": "c21a660b-9bc3-4c3c-b85d-057637f43227",
   "metadata": {
    "scrolled": true
   },
   "outputs": [
    {
     "name": "stdout",
     "output_type": "stream",
     "text": [
      "Collecting tensorflow-recommenders\n",
      "  Downloading tensorflow_recommenders-0.7.3-py3-none-any.whl (96 kB)\n",
      "\u001b[2K     \u001b[90m━━━━━━━━━━━━━━━━━━━━━━━━━━━━━━━━━━━━━━━━\u001b[0m \u001b[32m96.2/96.2 kB\u001b[0m \u001b[31m1.9 MB/s\u001b[0m eta \u001b[36m0:00:00\u001b[0ma \u001b[36m0:00:01\u001b[0m\n",
      "\u001b[?25hRequirement already satisfied: absl-py>=0.1.6 in /Users/mufidakhbar/miniconda3/envs/jcop_flask/lib/python3.9/site-packages (from tensorflow-recommenders) (2.0.0)\n",
      "Requirement already satisfied: tensorflow-macos>=2.9.0 in /Users/mufidakhbar/miniconda3/envs/jcop_flask/lib/python3.9/site-packages (from tensorflow-recommenders) (2.15.0)\n",
      "Requirement already satisfied: numpy<2.0.0,>=1.23.5 in /Users/mufidakhbar/miniconda3/envs/jcop_flask/lib/python3.9/site-packages (from tensorflow-macos>=2.9.0->tensorflow-recommenders) (1.26.2)\n",
      "Requirement already satisfied: google-pasta>=0.1.1 in /Users/mufidakhbar/miniconda3/envs/jcop_flask/lib/python3.9/site-packages (from tensorflow-macos>=2.9.0->tensorflow-recommenders) (0.2.0)\n",
      "Requirement already satisfied: gast!=0.5.0,!=0.5.1,!=0.5.2,>=0.2.1 in /Users/mufidakhbar/miniconda3/envs/jcop_flask/lib/python3.9/site-packages (from tensorflow-macos>=2.9.0->tensorflow-recommenders) (0.5.4)\n",
      "Requirement already satisfied: tensorboard<2.16,>=2.15 in /Users/mufidakhbar/miniconda3/envs/jcop_flask/lib/python3.9/site-packages (from tensorflow-macos>=2.9.0->tensorflow-recommenders) (2.15.1)\n",
      "Requirement already satisfied: wrapt<1.15,>=1.11.0 in /Users/mufidakhbar/miniconda3/envs/jcop_flask/lib/python3.9/site-packages (from tensorflow-macos>=2.9.0->tensorflow-recommenders) (1.14.1)\n",
      "Requirement already satisfied: h5py>=2.9.0 in /Users/mufidakhbar/miniconda3/envs/jcop_flask/lib/python3.9/site-packages (from tensorflow-macos>=2.9.0->tensorflow-recommenders) (3.10.0)\n",
      "Requirement already satisfied: opt-einsum>=2.3.2 in /Users/mufidakhbar/miniconda3/envs/jcop_flask/lib/python3.9/site-packages (from tensorflow-macos>=2.9.0->tensorflow-recommenders) (3.3.0)\n",
      "Requirement already satisfied: astunparse>=1.6.0 in /Users/mufidakhbar/miniconda3/envs/jcop_flask/lib/python3.9/site-packages (from tensorflow-macos>=2.9.0->tensorflow-recommenders) (1.6.3)\n",
      "Requirement already satisfied: keras<2.16,>=2.15.0 in /Users/mufidakhbar/miniconda3/envs/jcop_flask/lib/python3.9/site-packages (from tensorflow-macos>=2.9.0->tensorflow-recommenders) (2.15.0)\n",
      "Requirement already satisfied: tensorflow-io-gcs-filesystem>=0.23.1 in /Users/mufidakhbar/miniconda3/envs/jcop_flask/lib/python3.9/site-packages (from tensorflow-macos>=2.9.0->tensorflow-recommenders) (0.34.0)\n",
      "Requirement already satisfied: packaging in /Users/mufidakhbar/miniconda3/envs/jcop_flask/lib/python3.9/site-packages (from tensorflow-macos>=2.9.0->tensorflow-recommenders) (23.2)\n",
      "Requirement already satisfied: typing-extensions>=3.6.6 in /Users/mufidakhbar/miniconda3/envs/jcop_flask/lib/python3.9/site-packages (from tensorflow-macos>=2.9.0->tensorflow-recommenders) (4.9.0)\n",
      "Requirement already satisfied: tensorflow-estimator<2.16,>=2.15.0 in /Users/mufidakhbar/miniconda3/envs/jcop_flask/lib/python3.9/site-packages (from tensorflow-macos>=2.9.0->tensorflow-recommenders) (2.15.0)\n",
      "Requirement already satisfied: grpcio<2.0,>=1.24.3 in /Users/mufidakhbar/miniconda3/envs/jcop_flask/lib/python3.9/site-packages (from tensorflow-macos>=2.9.0->tensorflow-recommenders) (1.60.0)\n",
      "Requirement already satisfied: ml-dtypes~=0.2.0 in /Users/mufidakhbar/miniconda3/envs/jcop_flask/lib/python3.9/site-packages (from tensorflow-macos>=2.9.0->tensorflow-recommenders) (0.2.0)\n",
      "Requirement already satisfied: protobuf!=4.21.0,!=4.21.1,!=4.21.2,!=4.21.3,!=4.21.4,!=4.21.5,<5.0.0dev,>=3.20.3 in /Users/mufidakhbar/miniconda3/envs/jcop_flask/lib/python3.9/site-packages (from tensorflow-macos>=2.9.0->tensorflow-recommenders) (4.23.4)\n",
      "Requirement already satisfied: libclang>=13.0.0 in /Users/mufidakhbar/miniconda3/envs/jcop_flask/lib/python3.9/site-packages (from tensorflow-macos>=2.9.0->tensorflow-recommenders) (16.0.6)\n",
      "Requirement already satisfied: flatbuffers>=23.5.26 in /Users/mufidakhbar/miniconda3/envs/jcop_flask/lib/python3.9/site-packages (from tensorflow-macos>=2.9.0->tensorflow-recommenders) (23.5.26)\n",
      "Requirement already satisfied: setuptools in /Users/mufidakhbar/miniconda3/envs/jcop_flask/lib/python3.9/site-packages (from tensorflow-macos>=2.9.0->tensorflow-recommenders) (68.2.2)\n",
      "Requirement already satisfied: termcolor>=1.1.0 in /Users/mufidakhbar/miniconda3/envs/jcop_flask/lib/python3.9/site-packages (from tensorflow-macos>=2.9.0->tensorflow-recommenders) (2.4.0)\n",
      "Requirement already satisfied: six>=1.12.0 in /Users/mufidakhbar/miniconda3/envs/jcop_flask/lib/python3.9/site-packages (from tensorflow-macos>=2.9.0->tensorflow-recommenders) (1.16.0)\n",
      "Requirement already satisfied: wheel<1.0,>=0.23.0 in /Users/mufidakhbar/miniconda3/envs/jcop_flask/lib/python3.9/site-packages (from astunparse>=1.6.0->tensorflow-macos>=2.9.0->tensorflow-recommenders) (0.42.0)\n",
      "Requirement already satisfied: tensorboard-data-server<0.8.0,>=0.7.0 in /Users/mufidakhbar/miniconda3/envs/jcop_flask/lib/python3.9/site-packages (from tensorboard<2.16,>=2.15->tensorflow-macos>=2.9.0->tensorflow-recommenders) (0.7.2)\n",
      "Requirement already satisfied: google-auth<3,>=1.6.3 in /Users/mufidakhbar/miniconda3/envs/jcop_flask/lib/python3.9/site-packages (from tensorboard<2.16,>=2.15->tensorflow-macos>=2.9.0->tensorflow-recommenders) (2.25.2)\n",
      "Requirement already satisfied: markdown>=2.6.8 in /Users/mufidakhbar/miniconda3/envs/jcop_flask/lib/python3.9/site-packages (from tensorboard<2.16,>=2.15->tensorflow-macos>=2.9.0->tensorflow-recommenders) (3.5.1)\n",
      "Requirement already satisfied: requests<3,>=2.21.0 in /Users/mufidakhbar/miniconda3/envs/jcop_flask/lib/python3.9/site-packages (from tensorboard<2.16,>=2.15->tensorflow-macos>=2.9.0->tensorflow-recommenders) (2.28.1)\n",
      "Requirement already satisfied: werkzeug>=1.0.1 in /Users/mufidakhbar/miniconda3/envs/jcop_flask/lib/python3.9/site-packages (from tensorboard<2.16,>=2.15->tensorflow-macos>=2.9.0->tensorflow-recommenders) (2.2.2)\n",
      "Requirement already satisfied: google-auth-oauthlib<2,>=0.5 in /Users/mufidakhbar/miniconda3/envs/jcop_flask/lib/python3.9/site-packages (from tensorboard<2.16,>=2.15->tensorflow-macos>=2.9.0->tensorflow-recommenders) (1.2.0)\n",
      "Requirement already satisfied: rsa<5,>=3.1.4 in /Users/mufidakhbar/miniconda3/envs/jcop_flask/lib/python3.9/site-packages (from google-auth<3,>=1.6.3->tensorboard<2.16,>=2.15->tensorflow-macos>=2.9.0->tensorflow-recommenders) (4.9)\n",
      "Requirement already satisfied: pyasn1-modules>=0.2.1 in /Users/mufidakhbar/miniconda3/envs/jcop_flask/lib/python3.9/site-packages (from google-auth<3,>=1.6.3->tensorboard<2.16,>=2.15->tensorflow-macos>=2.9.0->tensorflow-recommenders) (0.3.0)\n",
      "Requirement already satisfied: cachetools<6.0,>=2.0.0 in /Users/mufidakhbar/miniconda3/envs/jcop_flask/lib/python3.9/site-packages (from google-auth<3,>=1.6.3->tensorboard<2.16,>=2.15->tensorflow-macos>=2.9.0->tensorflow-recommenders) (5.3.2)\n",
      "Requirement already satisfied: requests-oauthlib>=0.7.0 in /Users/mufidakhbar/miniconda3/envs/jcop_flask/lib/python3.9/site-packages (from google-auth-oauthlib<2,>=0.5->tensorboard<2.16,>=2.15->tensorflow-macos>=2.9.0->tensorflow-recommenders) (1.3.1)\n",
      "Requirement already satisfied: importlib-metadata>=4.4 in /Users/mufidakhbar/miniconda3/envs/jcop_flask/lib/python3.9/site-packages (from markdown>=2.6.8->tensorboard<2.16,>=2.15->tensorflow-macos>=2.9.0->tensorflow-recommenders) (7.0.0)\n",
      "Requirement already satisfied: idna<4,>=2.5 in /Users/mufidakhbar/miniconda3/envs/jcop_flask/lib/python3.9/site-packages (from requests<3,>=2.21.0->tensorboard<2.16,>=2.15->tensorflow-macos>=2.9.0->tensorflow-recommenders) (3.6)\n",
      "Requirement already satisfied: certifi>=2017.4.17 in /Users/mufidakhbar/miniconda3/envs/jcop_flask/lib/python3.9/site-packages (from requests<3,>=2.21.0->tensorboard<2.16,>=2.15->tensorflow-macos>=2.9.0->tensorflow-recommenders) (2023.11.17)\n",
      "Requirement already satisfied: urllib3<1.27,>=1.21.1 in /Users/mufidakhbar/miniconda3/envs/jcop_flask/lib/python3.9/site-packages (from requests<3,>=2.21.0->tensorboard<2.16,>=2.15->tensorflow-macos>=2.9.0->tensorflow-recommenders) (1.26.18)\n",
      "Requirement already satisfied: charset-normalizer<3,>=2 in /Users/mufidakhbar/miniconda3/envs/jcop_flask/lib/python3.9/site-packages (from requests<3,>=2.21.0->tensorboard<2.16,>=2.15->tensorflow-macos>=2.9.0->tensorflow-recommenders) (2.1.1)\n",
      "Requirement already satisfied: MarkupSafe>=2.1.1 in /Users/mufidakhbar/miniconda3/envs/jcop_flask/lib/python3.9/site-packages (from werkzeug>=1.0.1->tensorboard<2.16,>=2.15->tensorflow-macos>=2.9.0->tensorflow-recommenders) (2.1.3)\n",
      "Requirement already satisfied: zipp>=0.5 in /Users/mufidakhbar/miniconda3/envs/jcop_flask/lib/python3.9/site-packages (from importlib-metadata>=4.4->markdown>=2.6.8->tensorboard<2.16,>=2.15->tensorflow-macos>=2.9.0->tensorflow-recommenders) (3.17.0)\n",
      "Requirement already satisfied: pyasn1<0.6.0,>=0.4.6 in /Users/mufidakhbar/miniconda3/envs/jcop_flask/lib/python3.9/site-packages (from pyasn1-modules>=0.2.1->google-auth<3,>=1.6.3->tensorboard<2.16,>=2.15->tensorflow-macos>=2.9.0->tensorflow-recommenders) (0.5.1)\n",
      "Requirement already satisfied: oauthlib>=3.0.0 in /Users/mufidakhbar/miniconda3/envs/jcop_flask/lib/python3.9/site-packages (from requests-oauthlib>=0.7.0->google-auth-oauthlib<2,>=0.5->tensorboard<2.16,>=2.15->tensorflow-macos>=2.9.0->tensorflow-recommenders) (3.2.2)\n",
      "Installing collected packages: tensorflow-recommenders\n",
      "Successfully installed tensorflow-recommenders-0.7.3\n",
      "Note: you may need to restart the kernel to use updated packages.\n"
     ]
    }
   ],
   "source": [
    "#pip install tensorflow-recommenders"
   ]
  },
  {
   "cell_type": "code",
   "execution_count": 5,
   "id": "5b0f4290-1a78-43bf-a1e1-ed78a40b09a3",
   "metadata": {
    "scrolled": true
   },
   "outputs": [
    {
     "name": "stdout",
     "output_type": "stream",
     "text": [
      "Collecting tensorflow\n",
      "  Downloading tensorflow-2.15.0-cp39-cp39-macosx_12_0_arm64.whl (2.1 kB)\n",
      "Collecting tensorflow-macos==2.15.0\n",
      "  Downloading tensorflow_macos-2.15.0-cp39-cp39-macosx_12_0_arm64.whl (208.8 MB)\n",
      "\u001b[2K     \u001b[90m━━━━━━━━━━━━━━━━━━━━━━━━━━━━━━━━━━━━━━━\u001b[0m \u001b[32m208.8/208.8 MB\u001b[0m \u001b[31m2.1 MB/s\u001b[0m eta \u001b[36m0:00:00\u001b[0m00:01\u001b[0m00:03\u001b[0m\n",
      "\u001b[?25h\u001b[33mWARNING: Retrying (Retry(total=4, connect=None, read=None, redirect=None, status=None)) after connection broken by 'ReadTimeoutError(\"HTTPSConnectionPool(host='pypi.org', port=443): Read timed out. (read timeout=15)\")': /simple/google-pasta/\u001b[0m\u001b[33m\n",
      "\u001b[0mCollecting google-pasta>=0.1.1\n",
      "  Downloading google_pasta-0.2.0-py3-none-any.whl (57 kB)\n",
      "\u001b[2K     \u001b[90m━━━━━━━━━━━━━━━━━━━━━━━━━━━━━━━━━━━━━━━━\u001b[0m \u001b[32m57.5/57.5 kB\u001b[0m \u001b[31m4.9 MB/s\u001b[0m eta \u001b[36m0:00:00\u001b[0m\n",
      "\u001b[?25hCollecting wrapt<1.15,>=1.11.0\n",
      "  Downloading wrapt-1.14.1-cp39-cp39-macosx_11_0_arm64.whl (35 kB)\n",
      "Collecting flatbuffers>=23.5.26\n",
      "  Downloading flatbuffers-23.5.26-py2.py3-none-any.whl (26 kB)\n",
      "Collecting protobuf!=4.21.0,!=4.21.1,!=4.21.2,!=4.21.3,!=4.21.4,!=4.21.5,<5.0.0dev,>=3.20.3\n",
      "  Downloading protobuf-4.25.1-cp37-abi3-macosx_10_9_universal2.whl (394 kB)\n",
      "\u001b[2K     \u001b[90m━━━━━━━━━━━━━━━━━━━━━━━━━━━━━━━━━━━━━━━\u001b[0m \u001b[32m394.2/394.2 kB\u001b[0m \u001b[31m7.5 MB/s\u001b[0m eta \u001b[36m0:00:00\u001b[0ma \u001b[36m0:00:01\u001b[0m\n",
      "\u001b[?25hCollecting gast!=0.5.0,!=0.5.1,!=0.5.2,>=0.2.1\n",
      "  Downloading gast-0.5.4-py3-none-any.whl (19 kB)\n",
      "Requirement already satisfied: setuptools in /Users/mufidakhbar/miniconda3/envs/jcop_flask/lib/python3.9/site-packages (from tensorflow-macos==2.15.0->tensorflow) (68.2.2)\n",
      "Collecting numpy<2.0.0,>=1.23.5\n",
      "  Downloading numpy-1.26.2-cp39-cp39-macosx_11_0_arm64.whl (14.0 MB)\n",
      "\u001b[2K     \u001b[90m━━━━━━━━━━━━━━━━━━━━━━━━━━━━━━━━━━━━━━━━\u001b[0m \u001b[32m14.0/14.0 MB\u001b[0m \u001b[31m2.4 MB/s\u001b[0m eta \u001b[36m0:00:00\u001b[0m00:01\u001b[0m00:01\u001b[0m\n",
      "\u001b[?25hCollecting grpcio<2.0,>=1.24.3\n",
      "  Downloading grpcio-1.60.0-cp39-cp39-macosx_10_10_universal2.whl (9.7 MB)\n",
      "\u001b[2K     \u001b[90m━━━━━━━━━━━━━━━━━━━━━━━━━━━━━━━━━━━━━━━━\u001b[0m \u001b[32m9.7/9.7 MB\u001b[0m \u001b[31m2.6 MB/s\u001b[0m eta \u001b[36m0:00:00\u001b[0m00:01\u001b[0m00:01\u001b[0m\n",
      "\u001b[?25hCollecting astunparse>=1.6.0\n",
      "  Downloading astunparse-1.6.3-py2.py3-none-any.whl (12 kB)\n",
      "Collecting termcolor>=1.1.0\n",
      "  Downloading termcolor-2.4.0-py3-none-any.whl (7.7 kB)\n",
      "Collecting h5py>=2.9.0\n",
      "  Downloading h5py-3.10.0-cp39-cp39-macosx_11_0_arm64.whl (2.7 MB)\n",
      "\u001b[2K     \u001b[90m━━━━━━━━━━━━━━━━━━━━━━━━━━━━━━━━━━━━━━━━\u001b[0m \u001b[32m2.7/2.7 MB\u001b[0m \u001b[31m6.4 MB/s\u001b[0m eta \u001b[36m0:00:00\u001b[0m00:01\u001b[0m00:01\u001b[0m\n",
      "\u001b[?25hCollecting absl-py>=1.0.0\n",
      "  Downloading absl_py-2.0.0-py3-none-any.whl (130 kB)\n",
      "\u001b[2K     \u001b[90m━━━━━━━━━━━━━━━━━━━━━━━━━━━━━━━━━━━━━━━\u001b[0m \u001b[32m130.2/130.2 kB\u001b[0m \u001b[31m9.3 MB/s\u001b[0m eta \u001b[36m0:00:00\u001b[0m\n",
      "\u001b[?25hCollecting libclang>=13.0.0\n",
      "  Downloading libclang-16.0.6-py2.py3-none-macosx_11_0_arm64.whl (20.6 MB)\n",
      "\u001b[2K     \u001b[90m━━━━━━━━━━━━━━━━━━━━━━━━━━━━━━━━━━━━━━━━\u001b[0m \u001b[32m20.6/20.6 MB\u001b[0m \u001b[31m1.6 MB/s\u001b[0m eta \u001b[36m0:00:00\u001b[0m00:01\u001b[0m00:01\u001b[0m\n",
      "\u001b[?25hCollecting tensorflow-estimator<2.16,>=2.15.0\n",
      "  Downloading tensorflow_estimator-2.15.0-py2.py3-none-any.whl (441 kB)\n",
      "\u001b[2K     \u001b[90m━━━━━━━━━━━━━━━━━━━━━━━━━━━━━━━━━━━━━━━\u001b[0m \u001b[32m442.0/442.0 kB\u001b[0m \u001b[31m8.3 MB/s\u001b[0m eta \u001b[36m0:00:00\u001b[0ma \u001b[36m0:00:01\u001b[0m\n",
      "\u001b[?25hRequirement already satisfied: typing-extensions>=3.6.6 in /Users/mufidakhbar/miniconda3/envs/jcop_flask/lib/python3.9/site-packages (from tensorflow-macos==2.15.0->tensorflow) (4.9.0)\n",
      "Collecting opt-einsum>=2.3.2\n",
      "  Downloading opt_einsum-3.3.0-py3-none-any.whl (65 kB)\n",
      "\u001b[2K     \u001b[90m━━━━━━━━━━━━━━━━━━━━━━━━━━━━━━━━━━━━━━━━\u001b[0m \u001b[32m65.5/65.5 kB\u001b[0m \u001b[31m7.0 MB/s\u001b[0m eta \u001b[36m0:00:00\u001b[0m\n",
      "\u001b[?25hCollecting tensorflow-io-gcs-filesystem>=0.23.1\n",
      "  Downloading tensorflow_io_gcs_filesystem-0.34.0-cp39-cp39-macosx_12_0_arm64.whl (1.9 MB)\n",
      "\u001b[2K     \u001b[90m━━━━━━━━━━━━━━━━━━━━━━━━━━━━━━━━━━━━━━━━\u001b[0m \u001b[32m1.9/1.9 MB\u001b[0m \u001b[31m7.2 MB/s\u001b[0m eta \u001b[36m0:00:00\u001b[0ma \u001b[36m0:00:01\u001b[0mm\n",
      "\u001b[?25hCollecting tensorboard<2.16,>=2.15\n",
      "  Downloading tensorboard-2.15.1-py3-none-any.whl (5.5 MB)\n",
      "\u001b[2K     \u001b[90m━━━━━━━━━━━━━━━━━━━━━━━━━━━━━━━━━━━━━━━━\u001b[0m \u001b[32m5.5/5.5 MB\u001b[0m \u001b[31m2.6 MB/s\u001b[0m eta \u001b[36m0:00:00\u001b[0m00:01\u001b[0m00:01\u001b[0m\n",
      "\u001b[?25hCollecting keras<2.16,>=2.15.0\n",
      "  Downloading keras-2.15.0-py3-none-any.whl (1.7 MB)\n",
      "\u001b[2K     \u001b[90m━━━━━━━━━━━━━━━━━━━━━━━━━━━━━━━━━━━━━━━━\u001b[0m \u001b[32m1.7/1.7 MB\u001b[0m \u001b[31m1.6 MB/s\u001b[0m eta \u001b[36m0:00:00\u001b[0m00:01\u001b[0m00:01\u001b[0m\n",
      "\u001b[?25hRequirement already satisfied: packaging in /Users/mufidakhbar/miniconda3/envs/jcop_flask/lib/python3.9/site-packages (from tensorflow-macos==2.15.0->tensorflow) (23.2)\n",
      "Collecting ml-dtypes~=0.2.0\n",
      "  Downloading ml_dtypes-0.2.0-cp39-cp39-macosx_10_9_universal2.whl (1.2 MB)\n",
      "\u001b[2K     \u001b[90m━━━━━━━━━━━━━━━━━━━━━━━━━━━━━━━━━━━━━━━━\u001b[0m \u001b[32m1.2/1.2 MB\u001b[0m \u001b[31m3.4 MB/s\u001b[0m eta \u001b[36m0:00:00\u001b[0ma \u001b[36m0:00:01\u001b[0m\n",
      "\u001b[?25hRequirement already satisfied: six>=1.12.0 in /Users/mufidakhbar/miniconda3/envs/jcop_flask/lib/python3.9/site-packages (from tensorflow-macos==2.15.0->tensorflow) (1.16.0)\n",
      "Requirement already satisfied: wheel<1.0,>=0.23.0 in /Users/mufidakhbar/miniconda3/envs/jcop_flask/lib/python3.9/site-packages (from astunparse>=1.6.0->tensorflow-macos==2.15.0->tensorflow) (0.42.0)\n",
      "Requirement already satisfied: werkzeug>=1.0.1 in /Users/mufidakhbar/miniconda3/envs/jcop_flask/lib/python3.9/site-packages (from tensorboard<2.16,>=2.15->tensorflow-macos==2.15.0->tensorflow) (2.2.2)\n",
      "Collecting google-auth<3,>=1.6.3\n",
      "  Downloading google_auth-2.25.2-py2.py3-none-any.whl (184 kB)\n",
      "\u001b[2K     \u001b[90m━━━━━━━━━━━━━━━━━━━━━━━━━━━━━━━━━━━━━━━\u001b[0m \u001b[32m184.2/184.2 kB\u001b[0m \u001b[31m3.6 MB/s\u001b[0m eta \u001b[36m0:00:00\u001b[0ma \u001b[36m0:00:01\u001b[0m\n",
      "\u001b[?25hCollecting markdown>=2.6.8\n",
      "  Downloading Markdown-3.5.1-py3-none-any.whl (102 kB)\n",
      "\u001b[2K     \u001b[90m━━━━━━━━━━━━━━━━━━━━━━━━━━━━━━━━━━━━━━━\u001b[0m \u001b[32m102.2/102.2 kB\u001b[0m \u001b[31m2.9 MB/s\u001b[0m eta \u001b[36m0:00:00\u001b[0m\n",
      "\u001b[?25hRequirement already satisfied: requests<3,>=2.21.0 in /Users/mufidakhbar/miniconda3/envs/jcop_flask/lib/python3.9/site-packages (from tensorboard<2.16,>=2.15->tensorflow-macos==2.15.0->tensorflow) (2.28.1)\n",
      "Collecting google-auth-oauthlib<2,>=0.5\n",
      "  Downloading google_auth_oauthlib-1.2.0-py2.py3-none-any.whl (24 kB)\n",
      "Collecting protobuf!=4.21.0,!=4.21.1,!=4.21.2,!=4.21.3,!=4.21.4,!=4.21.5,<5.0.0dev,>=3.20.3\n",
      "  Downloading protobuf-4.23.4-cp37-abi3-macosx_10_9_universal2.whl (400 kB)\n",
      "\u001b[2K     \u001b[90m━━━━━━━━━━━━━━━━━━━━━━━━━━━━━━━━━━━━━━━\u001b[0m \u001b[32m400.3/400.3 kB\u001b[0m \u001b[31m3.3 MB/s\u001b[0m eta \u001b[36m0:00:00\u001b[0m00:01\u001b[0m00:01\u001b[0m\n",
      "\u001b[?25hCollecting tensorboard-data-server<0.8.0,>=0.7.0\n",
      "  Downloading tensorboard_data_server-0.7.2-py3-none-any.whl (2.4 kB)\n",
      "Collecting cachetools<6.0,>=2.0.0\n",
      "  Downloading cachetools-5.3.2-py3-none-any.whl (9.3 kB)\n",
      "Collecting rsa<5,>=3.1.4\n",
      "  Downloading rsa-4.9-py3-none-any.whl (34 kB)\n",
      "Collecting pyasn1-modules>=0.2.1\n",
      "  Downloading pyasn1_modules-0.3.0-py2.py3-none-any.whl (181 kB)\n",
      "\u001b[2K     \u001b[90m━━━━━━━━━━━━━━━━━━━━━━━━━━━━━━━━━━━━━━━\u001b[0m \u001b[32m181.3/181.3 kB\u001b[0m \u001b[31m3.6 MB/s\u001b[0m eta \u001b[36m0:00:00\u001b[0ma \u001b[36m0:00:01\u001b[0m\n",
      "\u001b[?25hCollecting requests-oauthlib>=0.7.0\n",
      "  Downloading requests_oauthlib-1.3.1-py2.py3-none-any.whl (23 kB)\n",
      "Requirement already satisfied: importlib-metadata>=4.4 in /Users/mufidakhbar/miniconda3/envs/jcop_flask/lib/python3.9/site-packages (from markdown>=2.6.8->tensorboard<2.16,>=2.15->tensorflow-macos==2.15.0->tensorflow) (7.0.0)\n",
      "Requirement already satisfied: certifi>=2017.4.17 in /Users/mufidakhbar/miniconda3/envs/jcop_flask/lib/python3.9/site-packages (from requests<3,>=2.21.0->tensorboard<2.16,>=2.15->tensorflow-macos==2.15.0->tensorflow) (2023.11.17)\n",
      "Requirement already satisfied: charset-normalizer<3,>=2 in /Users/mufidakhbar/miniconda3/envs/jcop_flask/lib/python3.9/site-packages (from requests<3,>=2.21.0->tensorboard<2.16,>=2.15->tensorflow-macos==2.15.0->tensorflow) (2.1.1)\n",
      "Requirement already satisfied: idna<4,>=2.5 in /Users/mufidakhbar/miniconda3/envs/jcop_flask/lib/python3.9/site-packages (from requests<3,>=2.21.0->tensorboard<2.16,>=2.15->tensorflow-macos==2.15.0->tensorflow) (3.6)\n",
      "Requirement already satisfied: urllib3<1.27,>=1.21.1 in /Users/mufidakhbar/miniconda3/envs/jcop_flask/lib/python3.9/site-packages (from requests<3,>=2.21.0->tensorboard<2.16,>=2.15->tensorflow-macos==2.15.0->tensorflow) (1.26.18)\n",
      "Requirement already satisfied: MarkupSafe>=2.1.1 in /Users/mufidakhbar/miniconda3/envs/jcop_flask/lib/python3.9/site-packages (from werkzeug>=1.0.1->tensorboard<2.16,>=2.15->tensorflow-macos==2.15.0->tensorflow) (2.1.3)\n",
      "Requirement already satisfied: zipp>=0.5 in /Users/mufidakhbar/miniconda3/envs/jcop_flask/lib/python3.9/site-packages (from importlib-metadata>=4.4->markdown>=2.6.8->tensorboard<2.16,>=2.15->tensorflow-macos==2.15.0->tensorflow) (3.17.0)\n",
      "Collecting pyasn1<0.6.0,>=0.4.6\n",
      "  Downloading pyasn1-0.5.1-py2.py3-none-any.whl (84 kB)\n",
      "\u001b[2K     \u001b[90m━━━━━━━━━━━━━━━━━━━━━━━━━━━━━━━━━━━━━━━━\u001b[0m \u001b[32m84.9/84.9 kB\u001b[0m \u001b[31m4.2 MB/s\u001b[0m eta \u001b[36m0:00:00\u001b[0m\n",
      "\u001b[?25hCollecting oauthlib>=3.0.0\n",
      "  Downloading oauthlib-3.2.2-py3-none-any.whl (151 kB)\n",
      "\u001b[2K     \u001b[90m━━━━━━━━━━━━━━━━━━━━━━━━━━━━━━━━━━━━━━━\u001b[0m \u001b[32m151.7/151.7 kB\u001b[0m \u001b[31m3.5 MB/s\u001b[0m eta \u001b[36m0:00:00\u001b[0ma \u001b[36m0:00:01\u001b[0m\n",
      "\u001b[?25hInstalling collected packages: libclang, flatbuffers, wrapt, termcolor, tensorflow-io-gcs-filesystem, tensorflow-estimator, tensorboard-data-server, pyasn1, protobuf, oauthlib, numpy, keras, grpcio, google-pasta, gast, cachetools, astunparse, absl-py, rsa, requests-oauthlib, pyasn1-modules, opt-einsum, ml-dtypes, markdown, h5py, google-auth, google-auth-oauthlib, tensorboard, tensorflow-macos, tensorflow\n",
      "  Attempting uninstall: numpy\n",
      "    Found existing installation: numpy 1.23.1\n",
      "    Uninstalling numpy-1.23.1:\n",
      "      Successfully uninstalled numpy-1.23.1\n",
      "\u001b[31mERROR: pip's dependency resolver does not currently take into account all the packages that are installed. This behaviour is the source of the following dependency conflicts.\n",
      "scipy 1.8.1 requires numpy<1.25.0,>=1.17.3, but you have numpy 1.26.2 which is incompatible.\u001b[0m\u001b[31m\n",
      "\u001b[0mSuccessfully installed absl-py-2.0.0 astunparse-1.6.3 cachetools-5.3.2 flatbuffers-23.5.26 gast-0.5.4 google-auth-2.25.2 google-auth-oauthlib-1.2.0 google-pasta-0.2.0 grpcio-1.60.0 h5py-3.10.0 keras-2.15.0 libclang-16.0.6 markdown-3.5.1 ml-dtypes-0.2.0 numpy-1.26.2 oauthlib-3.2.2 opt-einsum-3.3.0 protobuf-4.23.4 pyasn1-0.5.1 pyasn1-modules-0.3.0 requests-oauthlib-1.3.1 rsa-4.9 tensorboard-2.15.1 tensorboard-data-server-0.7.2 tensorflow-2.15.0 tensorflow-estimator-2.15.0 tensorflow-io-gcs-filesystem-0.34.0 tensorflow-macos-2.15.0 termcolor-2.4.0 wrapt-1.14.1\n",
      "Note: you may need to restart the kernel to use updated packages.\n"
     ]
    }
   ],
   "source": [
    "#pip install tensorflow"
   ]
  },
  {
   "cell_type": "markdown",
   "id": "eb918ce0-fda3-4bd4-b343-e0a383df10a3",
   "metadata": {},
   "source": [
    "<label for=\"kecerdasan\" class=\"form-label fw-bold\">Kecerdasan yang Dimiliki</label>\n",
    "                <div class=\"form-check\">\n",
    "                    <input class=\"form-check-input kecerdasan\" type=\"checkbox\" value=\"\" id=\"outdoor\">\n",
    "                    <label class=\"form-check-label\" for=\"outdoor\">\n",
    "                      Kecerdasan Linguistic-Verbal (kemampuan mengelola kata dan bahasa)\n",
    "                    </label>\n",
    "                  </div>\n",
    "                  \n",
    "                  <div class=\"form-check\">\n",
    "                    <input class=\"form-check-input kecerdasan\" type=\"checkbox\" value=\"\" id=\"mechanical\">\n",
    "                    <label class=\"form-check-label\" for=\"mechanical\">\n",
    "                      Kecerdasan Logika Matematika (kemampuan dengan logika terutama terkait matematika)\n",
    "                    </label>\n",
    "                  </div>\n",
    "\n",
    "                  <div class=\"form-check\">\n",
    "                    <input class=\"form-check-input kecerdasan\" type=\"checkbox\" value=\"\" id=\"computational\">\n",
    "                    <label class=\"form-check-label\" for=\"computational\">\n",
    "                      Kecerdasan Spasial-Visual (kemampuan yang berkaitan dengan persepsi visual)\n",
    "                    </label>\n",
    "                  </div>\n",
    "\n",
    "                  <div class=\"form-check\">\n",
    "                    <input class=\"form-check-input kecerdasan\" type=\"checkbox\" value=\"\" id=\"persuasive\">\n",
    "                    <label class=\"form-check-label\" for=\"persuasive\">\n",
    "                      Kecerdasan Kinestetik (kemampuan mengekspresikan ide serta keterampilan menciptakan sesuatu)\n",
    "                    </label>\n",
    "                  </div>\n",
    "\n",
    "                  <div class=\"form-check\">\n",
    "                    <input class=\"form-check-input kecerdasan\" type=\"checkbox\" value=\"\" id=\"literary\">\n",
    "                    <label class=\"form-check-label\" for=\"literary\">\n",
    "                      Kecerdasan Interpersonal (kemampuan berhubungan dan memahami orang)                    \n",
    "                    </label>\n",
    "                  </div>\n",
    "\n",
    "                  <div class=\"form-check\">\n",
    "                    <input class=\"form-check-input kecerdasan\" type=\"checkbox\" value=\"\" id=\"sosial-servis\">\n",
    "                    <label class=\"form-check-label\" for=\"sosial-servis\">\n",
    "                      Kecerdasan Naturalis (kemampuan memahami unsur dalam lingkungan alam)                    \n",
    "                    </label>\n",
    "                  </div>\n",
    "              </div>\n"
   ]
  },
  {
   "cell_type": "markdown",
   "id": "33297233-d6ad-4bb1-b003-27d8a0509834",
   "metadata": {},
   "source": [
    "import tempfile\n",
    "import os\n",
    "# Export the query model.\n",
    "path = os.path.join(os.getcwd(), \"model\")\n",
    "\n",
    "# Save the index.\n",
    "tf.saved_model.save(index, path)\n",
    "\n",
    "# Load it back; can also be done in TensorFlow Serving.\n",
    "loaded = tf.saved_model.load(path)\n",
    "\n",
    "_, titles = loaded({\n",
    "    \"jenis_kelamin\": np.array(['Perempuan']),\n",
    "    \"nilai_mtk\": np.array(['C (0-79)']),\n",
    "    \"nilai_bindo\": np.array(['A (90-100)']),\n",
    "    \"nilai_bingg\": np.array(['A (90-100)']),\n",
    "    \"mata_pelajaran\": np.array(['Matematika, Biologi, Bahasa Inggris']),\n",
    "    \"prefe_kerja\": np.array(['Bekerja Dalam Ruangan']),\n",
    "    \"kriteria_diri\": np.array(['Outdoor (Pekerjaan yang aktivitas di luar atau pekerjaan yang tidak bersifat rutin), Scientific (Pekerjaan berhubungan analisa dan eksperimen pada ilmu pengetahuan)']),\n",
    "    \"topik_bidang\": np.array(['Sains, Kesehatan']),\n",
    "    \"kecerdasan\": np.array(['Kecerdasan Naturalis (kemampuan memahami unsur dalam lingkungan alam)']),\n",
    "    \"bakat_keahlian\": np.array(['Realitas (kemampuan dalam memahami, menganalisis objek dalam dunia nyata), Analisis dan Sintesis (Kemampuan menganalisis dan menyusun kembali informasi)'])},\n",
    ")\n",
    "print(f\"Recommendations: {titles[0][:7]}\")"
   ]
  },
  {
   "cell_type": "code",
   "execution_count": 4,
   "id": "88e3bde9-7250-4477-9964-a5d765f0431e",
   "metadata": {},
   "outputs": [
    {
     "ename": "OSError",
     "evalue": "SavedModel file does not exist at: model_strng_060_realdata//{saved_model.pbtxt|saved_model.pb}",
     "output_type": "error",
     "traceback": [
      "\u001b[0;31m---------------------------------------------------------------------------\u001b[0m",
      "\u001b[0;31mOSError\u001b[0m                                   Traceback (most recent call last)",
      "Input \u001b[0;32mIn [4]\u001b[0m, in \u001b[0;36m<cell line: 1>\u001b[0;34m()\u001b[0m\n\u001b[0;32m----> 1\u001b[0m loaded \u001b[38;5;241m=\u001b[39m \u001b[43mtf\u001b[49m\u001b[38;5;241;43m.\u001b[39;49m\u001b[43msaved_model\u001b[49m\u001b[38;5;241;43m.\u001b[39;49m\u001b[43mload\u001b[49m\u001b[43m(\u001b[49m\u001b[38;5;124;43m'\u001b[39;49m\u001b[38;5;124;43mmodel_strng_060_realdata/\u001b[39;49m\u001b[38;5;124;43m'\u001b[39;49m\u001b[43m)\u001b[49m \u001b[38;5;66;03m# Folder Dari Model TFRS\u001b[39;00m\n",
      "File \u001b[0;32m~/.miniconda3/envs/jcopml/lib/python3.9/site-packages/tensorflow/python/saved_model/load.py:912\u001b[0m, in \u001b[0;36mload\u001b[0;34m(export_dir, tags, options)\u001b[0m\n\u001b[1;32m    910\u001b[0m \u001b[38;5;28;01mif\u001b[39;00m \u001b[38;5;28misinstance\u001b[39m(export_dir, os\u001b[38;5;241m.\u001b[39mPathLike):\n\u001b[1;32m    911\u001b[0m   export_dir \u001b[38;5;241m=\u001b[39m os\u001b[38;5;241m.\u001b[39mfspath(export_dir)\n\u001b[0;32m--> 912\u001b[0m result \u001b[38;5;241m=\u001b[39m \u001b[43mload_partial\u001b[49m\u001b[43m(\u001b[49m\u001b[43mexport_dir\u001b[49m\u001b[43m,\u001b[49m\u001b[43m \u001b[49m\u001b[38;5;28;43;01mNone\u001b[39;49;00m\u001b[43m,\u001b[49m\u001b[43m \u001b[49m\u001b[43mtags\u001b[49m\u001b[43m,\u001b[49m\u001b[43m \u001b[49m\u001b[43moptions\u001b[49m\u001b[43m)\u001b[49m[\u001b[38;5;124m\"\u001b[39m\u001b[38;5;124mroot\u001b[39m\u001b[38;5;124m\"\u001b[39m]\n\u001b[1;32m    913\u001b[0m \u001b[38;5;28;01mreturn\u001b[39;00m result\n",
      "File \u001b[0;32m~/.miniconda3/envs/jcopml/lib/python3.9/site-packages/tensorflow/python/saved_model/load.py:1017\u001b[0m, in \u001b[0;36mload_partial\u001b[0;34m(export_dir, filters, tags, options)\u001b[0m\n\u001b[1;32m   1012\u001b[0m \u001b[38;5;28;01mif\u001b[39;00m tags \u001b[38;5;129;01mis\u001b[39;00m \u001b[38;5;129;01mnot\u001b[39;00m \u001b[38;5;28;01mNone\u001b[39;00m \u001b[38;5;129;01mand\u001b[39;00m \u001b[38;5;129;01mnot\u001b[39;00m \u001b[38;5;28misinstance\u001b[39m(tags, \u001b[38;5;28mset\u001b[39m):\n\u001b[1;32m   1013\u001b[0m   \u001b[38;5;66;03m# Supports e.g. tags=SERVING and tags=[SERVING]. Sets aren't considered\u001b[39;00m\n\u001b[1;32m   1014\u001b[0m   \u001b[38;5;66;03m# sequences for nest.flatten, so we put those through as-is.\u001b[39;00m\n\u001b[1;32m   1015\u001b[0m   tags \u001b[38;5;241m=\u001b[39m nest\u001b[38;5;241m.\u001b[39mflatten(tags)\n\u001b[1;32m   1016\u001b[0m saved_model_proto, debug_info \u001b[38;5;241m=\u001b[39m (\n\u001b[0;32m-> 1017\u001b[0m     \u001b[43mloader_impl\u001b[49m\u001b[38;5;241;43m.\u001b[39;49m\u001b[43mparse_saved_model_with_debug_info\u001b[49m\u001b[43m(\u001b[49m\u001b[43mexport_dir\u001b[49m\u001b[43m)\u001b[49m)\n\u001b[1;32m   1019\u001b[0m loader \u001b[38;5;241m=\u001b[39m \u001b[38;5;28;01mNone\u001b[39;00m\n\u001b[1;32m   1020\u001b[0m \u001b[38;5;28;01mif\u001b[39;00m (\u001b[38;5;28mlen\u001b[39m(saved_model_proto\u001b[38;5;241m.\u001b[39mmeta_graphs) \u001b[38;5;241m==\u001b[39m \u001b[38;5;241m1\u001b[39m \u001b[38;5;129;01mand\u001b[39;00m\n\u001b[1;32m   1021\u001b[0m     saved_model_proto\u001b[38;5;241m.\u001b[39mmeta_graphs[\u001b[38;5;241m0\u001b[39m]\u001b[38;5;241m.\u001b[39mHasField(\u001b[38;5;124m\"\u001b[39m\u001b[38;5;124mobject_graph_def\u001b[39m\u001b[38;5;124m\"\u001b[39m)):\n",
      "File \u001b[0;32m~/.miniconda3/envs/jcopml/lib/python3.9/site-packages/tensorflow/python/saved_model/loader_impl.py:59\u001b[0m, in \u001b[0;36mparse_saved_model_with_debug_info\u001b[0;34m(export_dir)\u001b[0m\n\u001b[1;32m     46\u001b[0m \u001b[38;5;28;01mdef\u001b[39;00m \u001b[38;5;21mparse_saved_model_with_debug_info\u001b[39m(export_dir):\n\u001b[1;32m     47\u001b[0m \u001b[38;5;250m  \u001b[39m\u001b[38;5;124;03m\"\"\"Reads the savedmodel as well as the graph debug info.\u001b[39;00m\n\u001b[1;32m     48\u001b[0m \n\u001b[1;32m     49\u001b[0m \u001b[38;5;124;03m  Args:\u001b[39;00m\n\u001b[0;32m   (...)\u001b[0m\n\u001b[1;32m     57\u001b[0m \u001b[38;5;124;03m    parsed. Missing graph debug info file is fine.\u001b[39;00m\n\u001b[1;32m     58\u001b[0m \u001b[38;5;124;03m  \"\"\"\u001b[39;00m\n\u001b[0;32m---> 59\u001b[0m   saved_model \u001b[38;5;241m=\u001b[39m \u001b[43mparse_saved_model\u001b[49m\u001b[43m(\u001b[49m\u001b[43mexport_dir\u001b[49m\u001b[43m)\u001b[49m\n\u001b[1;32m     61\u001b[0m   debug_info_path \u001b[38;5;241m=\u001b[39m file_io\u001b[38;5;241m.\u001b[39mjoin(\n\u001b[1;32m     62\u001b[0m       path_helpers\u001b[38;5;241m.\u001b[39mget_debug_dir(export_dir),\n\u001b[1;32m     63\u001b[0m       constants\u001b[38;5;241m.\u001b[39mDEBUG_INFO_FILENAME_PB)\n\u001b[1;32m     64\u001b[0m   debug_info \u001b[38;5;241m=\u001b[39m graph_debug_info_pb2\u001b[38;5;241m.\u001b[39mGraphDebugInfo()\n",
      "File \u001b[0;32m~/.miniconda3/envs/jcopml/lib/python3.9/site-packages/tensorflow/python/saved_model/loader_impl.py:119\u001b[0m, in \u001b[0;36mparse_saved_model\u001b[0;34m(export_dir)\u001b[0m\n\u001b[1;32m    117\u001b[0m     \u001b[38;5;28;01mraise\u001b[39;00m \u001b[38;5;167;01mIOError\u001b[39;00m(\u001b[38;5;124mf\u001b[39m\u001b[38;5;124m\"\u001b[39m\u001b[38;5;124mCannot parse file \u001b[39m\u001b[38;5;132;01m{\u001b[39;00mpath_to_pbtxt\u001b[38;5;132;01m}\u001b[39;00m\u001b[38;5;124m: \u001b[39m\u001b[38;5;132;01m{\u001b[39;00m\u001b[38;5;28mstr\u001b[39m(e)\u001b[38;5;132;01m}\u001b[39;00m\u001b[38;5;124m.\u001b[39m\u001b[38;5;124m\"\u001b[39m) \u001b[38;5;28;01mfrom\u001b[39;00m \u001b[38;5;21;01me\u001b[39;00m\n\u001b[1;32m    118\u001b[0m \u001b[38;5;28;01melse\u001b[39;00m:\n\u001b[0;32m--> 119\u001b[0m   \u001b[38;5;28;01mraise\u001b[39;00m \u001b[38;5;167;01mIOError\u001b[39;00m(\n\u001b[1;32m    120\u001b[0m       \u001b[38;5;124mf\u001b[39m\u001b[38;5;124m\"\u001b[39m\u001b[38;5;124mSavedModel file does not exist at: \u001b[39m\u001b[38;5;132;01m{\u001b[39;00mexport_dir\u001b[38;5;132;01m}\u001b[39;00m\u001b[38;5;132;01m{\u001b[39;00mos\u001b[38;5;241m.\u001b[39mpath\u001b[38;5;241m.\u001b[39msep\u001b[38;5;132;01m}\u001b[39;00m\u001b[38;5;124m\"\u001b[39m\n\u001b[1;32m    121\u001b[0m       \u001b[38;5;124mf\u001b[39m\u001b[38;5;124m\"\u001b[39m\u001b[38;5;130;01m{{\u001b[39;00m\u001b[38;5;132;01m{\u001b[39;00mconstants\u001b[38;5;241m.\u001b[39mSAVED_MODEL_FILENAME_PBTXT\u001b[38;5;132;01m}\u001b[39;00m\u001b[38;5;124m|\u001b[39m\u001b[38;5;124m\"\u001b[39m\n\u001b[1;32m    122\u001b[0m       \u001b[38;5;124mf\u001b[39m\u001b[38;5;124m\"\u001b[39m\u001b[38;5;132;01m{\u001b[39;00mconstants\u001b[38;5;241m.\u001b[39mSAVED_MODEL_FILENAME_PB\u001b[38;5;132;01m}\u001b[39;00m\u001b[38;5;130;01m}}\u001b[39;00m\u001b[38;5;124m\"\u001b[39m)\n\u001b[1;32m    123\u001b[0m \u001b[38;5;28;01mreturn\u001b[39;00m saved_model\n",
      "\u001b[0;31mOSError\u001b[0m: SavedModel file does not exist at: model_strng_060_realdata//{saved_model.pbtxt|saved_model.pb}"
     ]
    }
   ],
   "source": [
    "loaded = tf.saved_model.load('model_strng_060_realdata/') # Folder Dari Model TFRS"
   ]
  },
  {
   "cell_type": "code",
   "execution_count": null,
   "id": "8b4e4482-9f5b-4cbb-a3d8-781b64c949d4",
   "metadata": {},
   "outputs": [],
   "source": []
  },
  {
   "cell_type": "code",
   "execution_count": null,
   "id": "d77df4a5-2f42-4f91-925a-e89405798915",
   "metadata": {},
   "outputs": [],
   "source": []
  },
  {
   "cell_type": "code",
   "execution_count": null,
   "id": "1ebfb17f-7dc9-415e-a9ef-63d567e53893",
   "metadata": {},
   "outputs": [],
   "source": []
  },
  {
   "cell_type": "code",
   "execution_count": null,
   "id": "d96fdfcd-8f59-4bdd-b5bc-5f527a73cd8d",
   "metadata": {},
   "outputs": [],
   "source": []
  },
  {
   "cell_type": "code",
   "execution_count": null,
   "id": "c4121c71-8ee7-4b63-970b-f782f8c02795",
   "metadata": {},
   "outputs": [],
   "source": []
  }
 ],
 "metadata": {
  "kernelspec": {
   "display_name": "Python 3 (ipykernel)",
   "language": "python",
   "name": "python3"
  },
  "language_info": {
   "codemirror_mode": {
    "name": "ipython",
    "version": 3
   },
   "file_extension": ".py",
   "mimetype": "text/x-python",
   "name": "python",
   "nbconvert_exporter": "python",
   "pygments_lexer": "ipython3",
   "version": "3.9.0"
  }
 },
 "nbformat": 4,
 "nbformat_minor": 5
}
